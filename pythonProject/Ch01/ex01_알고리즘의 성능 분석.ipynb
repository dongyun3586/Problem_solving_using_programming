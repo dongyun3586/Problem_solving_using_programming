{
 "cells": [
  {
   "cell_type": "markdown",
   "source": [
    "### (예시 1) 피보나치 수열"
   ],
   "metadata": {
    "collapsed": false,
    "pycharm": {
     "name": "#%% md\n"
    }
   }
  },
  {
   "cell_type": "code",
   "execution_count": 1,
   "metadata": {
    "collapsed": true,
    "pycharm": {
     "name": "#%%\n"
    }
   },
   "outputs": [],
   "source": [
    "def fibonacci(n: int) -> int:\n",
    "  if n<0:\n",
    "    return -1\n",
    "  if n<=1:\n",
    "    return n\n",
    "\n",
    "  f1 = fn = 0\n",
    "  f2 = 1\n",
    "  for i in range(2, n+1):\n",
    "    fn = f1 + f2\n",
    "    f1 = f2\n",
    "    f2 = fn\n",
    "\n",
    "  return fn"
   ]
  },
  {
   "cell_type": "code",
   "execution_count": 2,
   "outputs": [
    {
     "data": {
      "text/plain": "55"
     },
     "execution_count": 2,
     "metadata": {},
     "output_type": "execute_result"
    }
   ],
   "source": [
    "fibonacci(10)"
   ],
   "metadata": {
    "collapsed": false,
    "pycharm": {
     "name": "#%%\n"
    }
   }
  },
  {
   "cell_type": "markdown",
   "source": [
    "### (예시 2) 1~100까지의 합계 구하기"
   ],
   "metadata": {
    "collapsed": false,
    "pycharm": {
     "name": "#%% md\n"
    }
   }
  },
  {
   "cell_type": "code",
   "execution_count": 4,
   "outputs": [
    {
     "name": "stdout",
     "output_type": "stream",
     "text": [
      "5050\n",
      "5050.0\n"
     ]
    }
   ],
   "source": [
    "# 알고리즘 1\n",
    "sum = 0\n",
    "for i in range(1, 101):\n",
    "  sum += i\n",
    "print(sum)\n",
    "\n",
    "# 알고리즘 2\n",
    "sum = 0\n",
    "sum = (1+100)*100 / 2\n",
    "print(sum)"
   ],
   "metadata": {
    "collapsed": false,
    "pycharm": {
     "name": "#%%\n"
    }
   }
  },
  {
   "cell_type": "markdown",
   "source": [
    "### (예제 3) 정렬 알고리즘 수행 시간 비교"
   ],
   "metadata": {
    "collapsed": false,
    "pycharm": {
     "name": "#%% md\n"
    }
   }
  },
  {
   "cell_type": "code",
   "execution_count": 5,
   "outputs": [
    {
     "name": "stdout",
     "output_type": "stream",
     "text": [
      "1~100000000까지의 합은 5000000050000000\n",
      "코드 수행시간은 8.07316초 입니다.\n"
     ]
    }
   ],
   "source": [
    "# 코드 실행시간 측정 코드\n",
    "import time\n",
    "\n",
    "start = time.time()  # 시작 시간 저장\n",
    "\n",
    "# 작업 코드\n",
    "sum = 0\n",
    "n = 100000000\n",
    "for i in range(1, n+1):\n",
    "  sum += i\n",
    "print(f\"1~{n}까지의 합은 {sum}\")\n",
    "\n",
    "end = time.time()\n",
    "print(f\"코드 수행시간은 {end - start:.5f}초 입니다.\")"
   ],
   "metadata": {
    "collapsed": false,
    "pycharm": {
     "name": "#%%\n"
    }
   }
  },
  {
   "cell_type": "code",
   "execution_count": 7,
   "outputs": [
    {
     "name": "stdout",
     "output_type": "stream",
     "text": [
      "선택 정렬 성능 측정: 3.866720676422119\n",
      "기본 정렬 라이브러리 성능 측정: 0.001001119613647461\n"
     ]
    }
   ],
   "source": [
    "#  정렬 알고리즘 수행 시간 비교\n",
    "import random\n",
    "import time\n",
    "\n",
    "# 배열에 10,000개의 정수를 삽입\n",
    "random.seed(123)\n",
    "array = []\n",
    "for _ in range(10000):\n",
    "    array.append(random.randint(1, 100)) # 1부터 100 사이의 랜덤한 정수\n",
    "\n",
    "# 선택 정렬 프로그램 성능 측정\n",
    "start_time = time.time()\n",
    "\n",
    "# 선택 정렬 프로그램 소스코드\n",
    "for i in range(len(array)):\n",
    "    min_index = i # 가장 작은 원소의 인덱스\n",
    "    for j in range(i + 1, len(array)):\n",
    "        if array[min_index] > array[j]:\n",
    "            min_index = j\n",
    "    array[i], array[min_index] = array[min_index], array[i] # 스와프\n",
    "\n",
    "end_time = time.time() # 측정 종료\n",
    "print(\"선택 정렬 성능 측정:\", end_time - start_time) # 수행 시간 출력\n",
    "\n",
    "# 배열을 다시 무작위 데이터로 초기화\n",
    "random.seed(123)\n",
    "array = []\n",
    "for _ in range(10000):\n",
    "    array.append(random.randint(1, 100)) # 1부터 100 사이의 랜덤한 정수\n",
    "\n",
    "# 기본 정렬 라이브러리 성능 측정\n",
    "start_time = time.time()\n",
    "\n",
    "# 기본 정렬 라이브러리 사용\n",
    "array.sort()\n",
    "\n",
    "end_time = time.time() # 측정 종료\n",
    "print(\"기본 정렬 라이브러리 성능 측정:\", end_time - start_time) # 수행 시간 출력"
   ],
   "metadata": {
    "collapsed": false,
    "pycharm": {
     "name": "#%%\n"
    }
   }
  },
  {
   "cell_type": "code",
   "execution_count": null,
   "outputs": [],
   "source": [],
   "metadata": {
    "collapsed": false,
    "pycharm": {
     "name": "#%%\n"
    }
   }
  }
 ],
 "metadata": {
  "kernelspec": {
   "display_name": "Python 3",
   "language": "python",
   "name": "python3"
  },
  "language_info": {
   "codemirror_mode": {
    "name": "ipython",
    "version": 2
   },
   "file_extension": ".py",
   "mimetype": "text/x-python",
   "name": "python",
   "nbconvert_exporter": "python",
   "pygments_lexer": "ipython2",
   "version": "2.7.6"
  }
 },
 "nbformat": 4,
 "nbformat_minor": 0
}