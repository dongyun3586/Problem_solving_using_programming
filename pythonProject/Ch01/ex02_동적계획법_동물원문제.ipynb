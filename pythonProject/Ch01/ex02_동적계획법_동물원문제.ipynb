{
 "cells": [
  {
   "cell_type": "code",
   "execution_count": 1,
   "metadata": {
    "collapsed": true,
    "pycharm": {
     "name": "#%%\n"
    }
   },
   "outputs": [],
   "source": [
    "\n",
    "def choose_animals(animals, payload_limit):  #  W: 트럭의 무게한도, wt: 각 동물의 무게, val: 각 동물의 가치, n: 동물의 수\n",
    "  n = len(animals)\n",
    "  # K = [[0 for x in range(payload_limit+1)] for x in range(n+1)]      # DP를 위한 2차원 리스트 초기화\n",
    "  K = [[0] * (payload_limit + 1) for i in range(n + 1)]\n",
    "  names = [[[] for x in range(payload_limit + 1)] for x in range(n + 1)]  # 동물 이름 저장 2차원 리스트 초기화\n",
    "  for i in range(n + 1):  # 동물 숫자만큼 반복\n",
    "    for w in range(payload_limit + 1):  # 트럭의 무게한도만큼 반복\n",
    "      if i == 0 or w == 0:  # 0번째 행/열은 0으로 세팅\n",
    "        K[i][w] = 0\n",
    "      elif animals[i - 1][1] <= w:  # 현재 동물을 싣는 것이 가능하면\n",
    "        # K[i-1][w]: 이전 동물의 가치\n",
    "        # animals[i-1][2]+K[i-1][w-animals[i-1][1]]: 현재동물의가치+이전 데이터 중(트럭하중-현재동물무게)\n",
    "        # K[i][w] = max(animals[i-1][2] + K[i-1][w-animals[i-1][1]], K[i-1][w])    # max 함수 사용하여 큰 것 선택\n",
    "        if animals[i - 1][2] + K[i - 1][w - animals[i - 1][1]] > K[i - 1][w]:\n",
    "          K[i][w] = animals[i - 1][2] + K[i - 1][w - animals[i - 1][1]]\n",
    "          names[i][w].append(animals[i - 1][0])\n",
    "          if K[i - 1][w - animals[i - 1][1]]:\n",
    "            # names[i][w].append(names[i-1][w-animals[i-1][1]])\n",
    "            names[i][w] = names[i][w] + names[i - 1][w - animals[i - 1][1]]\n",
    "        else:\n",
    "          K[i][w] = K[i - 1][w]\n",
    "          # names[i][w].append(names[i-1][w])\n",
    "          names[i][w] = names[i][w] + names[i - 1][w]\n",
    "      else:\n",
    "        K[i][w] = K[i - 1][w]\n",
    "        if K[i - 1][w]:\n",
    "          # names[i][w].append(names[i-1][w])\n",
    "          names[i][w] = names[i][w] + names[i - 1][w]\n",
    "\n",
    "  # print('   ', end='')\n",
    "  # for i in range(n+1):\n",
    "  #   print(i, end='  ')\n",
    "  # print()\n",
    "  # for i, v in enumerate(K):\n",
    "  #   print(i, v)\n",
    "  # print()\n",
    "  # for i in names:\n",
    "  #   print(i)\n",
    "\n",
    "  return K[n][payload_limit], names[n][payload_limit]"
   ]
  },
  {
   "cell_type": "code",
   "execution_count": 2,
   "outputs": [
    {
     "name": "stdout",
     "output_type": "stream",
     "text": [
      "선호도 합:  7\n",
      "선택된 동물들:  ['하마', '물소']\n"
     ]
    }
   ],
   "source": [
    "animals = [\n",
    "  ['호랑이', 2, 1], ['사자', 2, 1], ['얼룩말', 2, 1], ['물소', 3, 4],\n",
    "  ['하마', 4, 3], ['기린', 5, 5], ['코끼리', 6, 6]\n",
    "  ]\n",
    "\n",
    "truck_payload_limit = 7  # 트럭의 무게 한도\n",
    "preference_sum, selected_animals = choose_animals(animals, truck_payload_limit)\n",
    "print('선호도 합: ', preference_sum)\n",
    "print('선택된 동물들: ', selected_animals)"
   ],
   "metadata": {
    "collapsed": false,
    "pycharm": {
     "name": "#%%\n"
    }
   }
  },
  {
   "cell_type": "code",
   "execution_count": 3,
   "outputs": [
    {
     "name": "stdout",
     "output_type": "stream",
     "text": [
      "선호도 합:  9\n",
      "선택된 동물들:  ['기린', '물소']\n"
     ]
    }
   ],
   "source": [
    "animals = [\n",
    "  ['호랑이', 2, 1], ['사자', 2, 1], ['얼룩말', 2, 1], ['물소', 3, 4],\n",
    "  ['하마', 4, 3], ['기린', 5, 5], ['코끼리', 6, 6]\n",
    "  ]\n",
    "\n",
    "truck_payload_limit = 8  # 트럭의 무게 한도\n",
    "preference_sum, selected_animals = choose_animals(animals, truck_payload_limit)\n",
    "print('선호도 합: ', preference_sum)\n",
    "print('선택된 동물들: ', selected_animals)"
   ],
   "metadata": {
    "collapsed": false,
    "pycharm": {
     "name": "#%%\n"
    }
   }
  },
  {
   "cell_type": "code",
   "execution_count": 4,
   "outputs": [
    {
     "name": "stdout",
     "output_type": "stream",
     "text": [
      "선호도 합:  19\n",
      "선택된 동물들:  ['코끼리', '기린', '하마', '물소', '호랑이']\n"
     ]
    }
   ],
   "source": [
    "animals = [\n",
    "  ['호랑이', 2, 1], ['사자', 2, 1], ['얼룩말', 2, 1], ['물소', 3, 4],\n",
    "  ['하마', 4, 3], ['기린', 5, 5], ['코끼리', 6, 6]\n",
    "  ]\n",
    "\n",
    "truck_payload_limit = 20  # 트럭의 무게 한도\n",
    "preference_sum, selected_animals = choose_animals(animals, truck_payload_limit)\n",
    "print('선호도 합: ', preference_sum)\n",
    "print('선택된 동물들: ', selected_animals)"
   ],
   "metadata": {
    "collapsed": false,
    "pycharm": {
     "name": "#%%\n"
    }
   }
  },
  {
   "cell_type": "code",
   "execution_count": null,
   "outputs": [],
   "source": [],
   "metadata": {
    "collapsed": false,
    "pycharm": {
     "name": "#%%\n"
    }
   }
  }
 ],
 "metadata": {
  "kernelspec": {
   "display_name": "Python 3",
   "language": "python",
   "name": "python3"
  },
  "language_info": {
   "codemirror_mode": {
    "name": "ipython",
    "version": 2
   },
   "file_extension": ".py",
   "mimetype": "text/x-python",
   "name": "python",
   "nbconvert_exporter": "python",
   "pygments_lexer": "ipython2",
   "version": "2.7.6"
  }
 },
 "nbformat": 4,
 "nbformat_minor": 0
}