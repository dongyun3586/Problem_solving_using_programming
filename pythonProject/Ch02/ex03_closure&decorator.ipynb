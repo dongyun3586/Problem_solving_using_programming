{
 "cells": [
  {
   "cell_type": "markdown",
   "source": [
    "# Closure"
   ],
   "metadata": {
    "collapsed": false,
    "pycharm": {
     "name": "#%% md\n"
    }
   }
  },
  {
   "cell_type": "markdown",
   "source": [
    "- 클로저는 함수 안에 내부 함수(inner function)을 구현하고, 그 내부 함수를 반환하는 함수\n",
    "- 이때 외부 함수는 자신이 가진 변수값 등을 내부 함수에 전달하여 실행되도록 한다."
   ],
   "metadata": {
    "collapsed": false,
    "pycharm": {
     "name": "#%% md\n"
    }
   }
  },
  {
   "cell_type": "markdown",
   "source": [
    "### (문제) 어떤 수에 3, 5와 같은 지정된 수를 곱해서 반환해야하는 함수 만들기"
   ],
   "metadata": {
    "collapsed": false,
    "pycharm": {
     "name": "#%% md\n"
    }
   }
  },
  {
   "cell_type": "code",
   "execution_count": 1,
   "metadata": {
    "collapsed": true,
    "pycharm": {
     "name": "#%%\n"
    }
   },
   "outputs": [],
   "source": [
    "def mul3(n):\n",
    "  return n * 3\n",
    "\n",
    "def mul5(n):\n",
    "  return n * 5"
   ]
  },
  {
   "cell_type": "markdown",
   "source": [
    "### 클래스를 이용한 해결"
   ],
   "metadata": {
    "collapsed": false,
    "pycharm": {
     "name": "#%% md\n"
    }
   }
  },
  {
   "cell_type": "code",
   "execution_count": 2,
   "outputs": [
    {
     "name": "stdout",
     "output_type": "stream",
     "text": [
      "30\n",
      "50\n"
     ]
    }
   ],
   "source": [
    "class Mul:\n",
    "  def __init__(self, m):\n",
    "    self.m = m\n",
    "\n",
    "  def multiply(self, n):\n",
    "    return self.m * n\n",
    "\n",
    "mul3 = Mul(3)\n",
    "mul5 = Mul(5)\n",
    "\n",
    "print(mul3.multiply(10))\n",
    "print(mul5.multiply(10))"
   ],
   "metadata": {
    "collapsed": false,
    "pycharm": {
     "name": "#%%\n"
    }
   }
  },
  {
   "cell_type": "code",
   "execution_count": 3,
   "outputs": [
    {
     "name": "stdout",
     "output_type": "stream",
     "text": [
      "30\n",
      "50\n"
     ]
    }
   ],
   "source": [
    "class Mul:\n",
    "  def __init__(self, m):\n",
    "    self.m = m\n",
    "\n",
    "  # 클로스로 만든 객체에 인수를 전달하여 바로 호출할 수 있도록 하는 메서드\n",
    "  def __call__(self, n):\n",
    "    return self.m * n\n",
    "\n",
    "mul3 = Mul(3)\n",
    "mul5 = Mul(5)\n",
    "\n",
    "print(mul3(10))\n",
    "print(mul5(10))"
   ],
   "metadata": {
    "collapsed": false,
    "pycharm": {
     "name": "#%%\n"
    }
   }
  },
  {
   "cell_type": "markdown",
   "source": [
    "### 클로저를 이용한 해결"
   ],
   "metadata": {
    "collapsed": false,
    "pycharm": {
     "name": "#%% md\n"
    }
   }
  },
  {
   "cell_type": "code",
   "execution_count": 4,
   "outputs": [
    {
     "name": "stdout",
     "output_type": "stream",
     "text": [
      "30\n",
      "50\n"
     ]
    }
   ],
   "source": [
    "def mul(m):\n",
    "  def inner_func(n):\n",
    "    return m * n\n",
    "  return inner_func\n",
    "\n",
    "mul3 = mul(3)\n",
    "mul5 = mul(5)\n",
    "\n",
    "print(mul3(10))\n",
    "print(mul5(10))"
   ],
   "metadata": {
    "collapsed": false,
    "pycharm": {
     "name": "#%%\n"
    }
   }
  },
  {
   "cell_type": "markdown",
   "source": [
    "# Decorator\n",
    "- 클로저를 이용하면 기존 함수에 기능을 추가하기가 편리하다.\n",
    "- 이와 같이 기존 함수를 바꾸지 않고 기능을 추가한 elapsed( ) 함수와 같은 클로저를 **데코레이터(Decorator)**라 한다.\n",
    "- 파이썬 데코레이터는 @elapsed(@+데코레이션 함수명)를 이용한 어노테이션으로 사용할 수도 있다."
   ],
   "metadata": {
    "collapsed": false,
    "pycharm": {
     "name": "#%% md\n"
    }
   }
  },
  {
   "cell_type": "code",
   "execution_count": 12,
   "outputs": [
    {
     "name": "stdout",
     "output_type": "stream",
     "text": [
      "함수 수행시간: 0.002998828887939453초\n"
     ]
    },
    {
     "data": {
      "text/plain": "5000050000"
     },
     "execution_count": 12,
     "metadata": {},
     "output_type": "execute_result"
    }
   ],
   "source": [
    "import time\n",
    "\n",
    "def elapsed(func):\n",
    "  def inner_func():\n",
    "    start = time.time()\n",
    "    result = func()\n",
    "    end = time.time()\n",
    "    print(f\"함수 수행시간: {end-start}초\")\n",
    "    return result\n",
    "  return inner_func\n",
    "\n",
    "def my_func():\n",
    "  sum = 0\n",
    "  for i in range(100000 + 1):\n",
    "    sum += i\n",
    "  return sum\n",
    "\n",
    "decorated_my_func = elapsed(my_func)\n",
    "decorated_my_func()"
   ],
   "metadata": {
    "collapsed": false,
    "pycharm": {
     "name": "#%%\n"
    }
   }
  },
  {
   "cell_type": "markdown",
   "source": [
    "### # (연습문제 4) 클로저를 이용한 정렬 알고리즘 수행 시간 출력"
   ],
   "metadata": {
    "collapsed": false,
    "pycharm": {
     "name": "#%% md\n"
    }
   }
  },
  {
   "cell_type": "code",
   "execution_count": 1,
   "outputs": [
    {
     "name": "stdout",
     "output_type": "stream",
     "text": [
      "selection_sort() 함수 수행시간: 1.8401780128479004초\n",
      "basic_sort() 함수 수행시간: 0.006985902786254883초\n"
     ]
    }
   ],
   "source": [
    "import time\n",
    "import random\n",
    "\n",
    "def elapsed(func):\n",
    "  def inner_func():\n",
    "    start = time.time()\n",
    "    func()\n",
    "    end = time.time()\n",
    "    # print(f\"함수 수행시간: {end-start}초\")\n",
    "    return end-start\n",
    "  return inner_func\n",
    "\n",
    "def selection_sort():\n",
    "  # 배열에 10,000개의 정수를 삽입\n",
    "  random.seed(123)\n",
    "  array = []\n",
    "  for _ in range(10000):\n",
    "      array.append(random.randint(1, 100)) # 1부터 100 사이의 랜덤한 정수\n",
    "\n",
    "  # 선택 정렬 프로그램 소스코드\n",
    "  for i in range(len(array)):\n",
    "      min_index = i # 가장 작은 원소의 인덱스\n",
    "      for j in range(i + 1, len(array)):\n",
    "          if array[min_index] > array[j]:\n",
    "              min_index = j\n",
    "      array[i], array[min_index] = array[min_index], array[i] # 스와프\n",
    "\n",
    "def basic_sort():\n",
    "  # 배열에 10,000개의 정수를 삽입\n",
    "  random.seed(123)\n",
    "  array = []\n",
    "  for _ in range(10000):\n",
    "      array.append(random.randint(1, 100)) # 1부터 100 사이의 랜덤한 정수\n",
    "\n",
    "  # 기본 정렬 라이브러리 사용\n",
    "  array.sort()\n",
    "\n",
    "decorated_selection_sort = elapsed(selection_sort)\n",
    "print(f'selection_sort() 함수 수행시간: {decorated_selection_sort()}초')\n",
    "\n",
    "decorated_basic_sort = elapsed(basic_sort)\n",
    "print(f'basic_sort() 함수 수행시간: {decorated_basic_sort()}초')"
   ],
   "metadata": {
    "collapsed": false,
    "pycharm": {
     "name": "#%%\n"
    }
   }
  },
  {
   "cell_type": "code",
   "execution_count": 45,
   "outputs": [
    {
     "name": "stdout",
     "output_type": "stream",
     "text": [
      "selection_sort()함수 수행시간: 2.006854772567749초\n",
      "basic_sort()함수 수행시간: 0.006873607635498047초\n"
     ]
    }
   ],
   "source": [
    "import time\n",
    "import random\n",
    "\n",
    "def elapsed(func):\n",
    "  def inner_func():\n",
    "    start = time.time()\n",
    "    result = func()\n",
    "    end = time.time()\n",
    "    print(f\"함수 수행시간: {end-start}초\")\n",
    "    return result\n",
    "  return inner_func\n",
    "\n",
    "@elapsed\n",
    "def selection_sort():\n",
    "  # 배열에 10,000개의 정수를 삽입\n",
    "  random.seed(123)\n",
    "  array = []\n",
    "  for _ in range(10000):\n",
    "      array.append(random.randint(1, 100)) # 1부터 100 사이의 랜덤한 정수\n",
    "\n",
    "  # 선택 정렬 프로그램 소스코드\n",
    "  for i in range(len(array)):\n",
    "      min_index = i # 가장 작은 원소의 인덱스\n",
    "      for j in range(i + 1, len(array)):\n",
    "          if array[min_index] > array[j]:\n",
    "              min_index = j\n",
    "      array[i], array[min_index] = array[min_index], array[i] # 스와프\n",
    "\n",
    "@elapsed\n",
    "def basic_sort():\n",
    "  # 배열에 10,000개의 정수를 삽입\n",
    "  random.seed(123)\n",
    "  array = []\n",
    "  for _ in range(10000):\n",
    "      array.append(random.randint(1, 100)) # 1부터 100 사이의 랜덤한 정수\n",
    "\n",
    "  # 기본 정렬 라이브러리 사용\n",
    "  array.sort()\n",
    "\n",
    "print('selection_sort()', end='')\n",
    "selection_sort()\n",
    "\n",
    "print('basic_sort()', end='')\n",
    "basic_sort()"
   ],
   "metadata": {
    "collapsed": false,
    "pycharm": {
     "name": "#%%\n"
    }
   }
  },
  {
   "cell_type": "markdown",
   "source": [
    "### 인수가 있는 함수 데코레이터"
   ],
   "metadata": {
    "collapsed": false,
    "pycharm": {
     "name": "#%% md\n"
    }
   }
  },
  {
   "cell_type": "code",
   "execution_count": 31,
   "outputs": [
    {
     "ename": "TypeError",
     "evalue": "inner_func() takes 0 positional arguments but 1 was given",
     "output_type": "error",
     "traceback": [
      "\u001B[1;31m---------------------------------------------------------------------------\u001B[0m",
      "\u001B[1;31mTypeError\u001B[0m                                 Traceback (most recent call last)",
      "Input \u001B[1;32mIn [31]\u001B[0m, in \u001B[0;36m<cell line: 19>\u001B[1;34m()\u001B[0m\n\u001B[0;32m     16\u001B[0m     \u001B[38;5;28msum\u001B[39m \u001B[38;5;241m+\u001B[39m\u001B[38;5;241m=\u001B[39m i\n\u001B[0;32m     17\u001B[0m   \u001B[38;5;28;01mreturn\u001B[39;00m \u001B[38;5;28msum\u001B[39m\n\u001B[1;32m---> 19\u001B[0m \u001B[43mmy_func\u001B[49m\u001B[43m(\u001B[49m\u001B[38;5;241;43m1000000\u001B[39;49m\u001B[43m)\u001B[49m\n",
      "\u001B[1;31mTypeError\u001B[0m: inner_func() takes 0 positional arguments but 1 was given"
     ]
    }
   ],
   "source": [
    "import time\n",
    "\n",
    "def elapsed(func):\n",
    "  def inner_func():\n",
    "    start = time.time()\n",
    "    result = func()\n",
    "    end = time.time()\n",
    "    print(f\"함수 수행시간: {end-start}초\")\n",
    "    return result\n",
    "  return inner_func\n",
    "\n",
    "@elapsed\n",
    "def my_func(n: int):\n",
    "  sum = 0\n",
    "  for i in range(n + 1):\n",
    "    sum += i\n",
    "  return sum\n",
    "\n",
    "my_func(1000000)"
   ],
   "metadata": {
    "collapsed": false,
    "pycharm": {
     "name": "#%%\n"
    }
   }
  },
  {
   "cell_type": "code",
   "execution_count": 30,
   "outputs": [
    {
     "name": "stdout",
     "output_type": "stream",
     "text": [
      "함수 수행시간: 0.42532873153686523초\n"
     ]
    },
    {
     "data": {
      "text/plain": "50000005000000"
     },
     "execution_count": 30,
     "metadata": {},
     "output_type": "execute_result"
    }
   ],
   "source": [
    "import time\n",
    "\n",
    "def elapsed(func):\n",
    "  def inner_func(*args, **kwargs):\n",
    "    start = time.time()\n",
    "    result = func(*args, **kwargs)\n",
    "    end = time.time()\n",
    "    print(f\"함수 수행시간: {end-start}초\")\n",
    "    return result\n",
    "  return inner_func\n",
    "\n",
    "@elapsed\n",
    "def my_func(n: int):\n",
    "  sum = 0\n",
    "  for i in range(n + 1):\n",
    "    sum += i\n",
    "  return sum\n",
    "\n",
    "my_func(10000000)"
   ],
   "metadata": {
    "collapsed": false,
    "pycharm": {
     "name": "#%%\n"
    }
   }
  },
  {
   "cell_type": "code",
   "execution_count": 49,
   "outputs": [
    {
     "name": "stdout",
     "output_type": "stream",
     "text": [
      "함수 수행시간: 0.43399715423583984초\n"
     ]
    },
    {
     "data": {
      "text/plain": "50000005000000"
     },
     "execution_count": 49,
     "metadata": {},
     "output_type": "execute_result"
    }
   ],
   "source": [
    "import time\n",
    "\n",
    "def elapsed(func):\n",
    "  def inner_func(*args, **kwargs):\n",
    "    start = time.time()\n",
    "    result = func(*args, **kwargs)\n",
    "    end = time.time()\n",
    "    print(f\"함수 수행시간: {end-start}초\")\n",
    "    return result\n",
    "  return inner_func\n",
    "\n",
    "@elapsed\n",
    "def my_func(a: int, b: int) -> int:\n",
    "  sum = 0\n",
    "  for i in range(a, b + 1):\n",
    "    sum += i\n",
    "  return sum\n",
    "\n",
    "my_func(1, 10000000)"
   ],
   "metadata": {
    "collapsed": false,
    "pycharm": {
     "name": "#%%\n"
    }
   }
  },
  {
   "cell_type": "code",
   "execution_count": 42,
   "outputs": [
    {
     "name": "stdout",
     "output_type": "stream",
     "text": [
      "[7, 35, 12, 99, 53, 35, 14, 5, 49, 69, 72, 43, 44, 7, 21, 18, 44, 72, 43, 90, 32]\n",
      "selection_sort()함수 수행시간: 2.058699369430542초\n",
      "[7, 35, 12, 99, 53, 35, 14, 5, 49, 69, 72, 43, 44, 7, 21, 18, 44, 72, 43, 90, 32]\n",
      "basic_sort()함수 수행시간: 0.0초\n"
     ]
    }
   ],
   "source": [
    "import time\n",
    "import random\n",
    "\n",
    "def elapsed(func):\n",
    "  def inner_func(*args, **kwargs):\n",
    "    start = time.time()\n",
    "    result = func(*args, **kwargs)\n",
    "    end = time.time()\n",
    "    print(f\"함수 수행시간: {end-start}초\")\n",
    "    return result\n",
    "  return inner_func\n",
    "\n",
    "@elapsed\n",
    "def selection_sort(array):\n",
    "  # 선택 정렬 프로그램 소스코드\n",
    "  for i in range(len(array)):\n",
    "      min_index = i # 가장 작은 원소의 인덱스\n",
    "      for j in range(i + 1, len(array)):\n",
    "          if array[min_index] > array[j]:\n",
    "              min_index = j\n",
    "      array[i], array[min_index] = array[min_index], array[i] # 스와프\n",
    "\n",
    "@elapsed\n",
    "def basic_sort(arr):\n",
    "  # 기본 정렬 라이브러리 사용\n",
    "  array.sort()\n",
    "\n",
    "# 배열에 10,000개의 정수를 삽입\n",
    "random.seed(123)\n",
    "array = []\n",
    "for _ in range(10000):\n",
    "    array.append(random.randint(1, 100)) # 1부터 100 사이의 랜덤한 정수\n",
    "\n",
    "# print(array[:21])\n",
    "print('selection_sort()', end='')\n",
    "selection_sort(array.copy())\n",
    "\n",
    "# print(array[:21])\n",
    "print('basic_sort()', end='')\n",
    "basic_sort(array)"
   ],
   "metadata": {
    "collapsed": false,
    "pycharm": {
     "name": "#%%\n"
    }
   }
  },
  {
   "cell_type": "code",
   "execution_count": null,
   "outputs": [],
   "source": [],
   "metadata": {
    "collapsed": false,
    "pycharm": {
     "name": "#%%\n"
    }
   }
  }
 ],
 "metadata": {
  "kernelspec": {
   "display_name": "Python 3",
   "language": "python",
   "name": "python3"
  },
  "language_info": {
   "codemirror_mode": {
    "name": "ipython",
    "version": 2
   },
   "file_extension": ".py",
   "mimetype": "text/x-python",
   "name": "python",
   "nbconvert_exporter": "python",
   "pygments_lexer": "ipython2",
   "version": "2.7.6"
  }
 },
 "nbformat": 4,
 "nbformat_minor": 0
}