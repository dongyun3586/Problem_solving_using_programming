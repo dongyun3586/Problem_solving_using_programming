{
 "cells": [
  {
   "cell_type": "markdown",
   "source": [
    "# Iterator\n",
    "- 리스트와 같이 for문과 같은 반복 구문에 적용할 수 있는 객체를 반복 가능(iterable) 객체라 한다.\n",
    "- 이터레이터는 next( ) 함수 호출 시 계속 그다음 값을 반환하는 객체이다."
   ],
   "metadata": {
    "collapsed": false,
    "pycharm": {
     "name": "#%% md\n"
    }
   }
  },
  {
   "cell_type": "code",
   "execution_count": 2,
   "metadata": {
    "collapsed": true,
    "pycharm": {
     "name": "#%%\n"
    }
   },
   "outputs": [
    {
     "name": "stdout",
     "output_type": "stream",
     "text": [
      "<class 'list'>\n"
     ]
    },
    {
     "ename": "TypeError",
     "evalue": "'list' object is not an iterator",
     "output_type": "error",
     "traceback": [
      "\u001B[1;31m---------------------------------------------------------------------------\u001B[0m",
      "\u001B[1;31mTypeError\u001B[0m                                 Traceback (most recent call last)",
      "Input \u001B[1;32mIn [2]\u001B[0m, in \u001B[0;36m<cell line: 3>\u001B[1;34m()\u001B[0m\n\u001B[0;32m      1\u001B[0m a \u001B[38;5;241m=\u001B[39m [\u001B[38;5;241m1\u001B[39m, \u001B[38;5;241m2\u001B[39m, \u001B[38;5;241m3\u001B[39m]\n\u001B[0;32m      2\u001B[0m \u001B[38;5;28mprint\u001B[39m(\u001B[38;5;28mtype\u001B[39m(a))\n\u001B[1;32m----> 3\u001B[0m \u001B[38;5;28;43mnext\u001B[39;49m\u001B[43m(\u001B[49m\u001B[43ma\u001B[49m\u001B[43m)\u001B[49m\n",
      "\u001B[1;31mTypeError\u001B[0m: 'list' object is not an iterator"
     ]
    }
   ],
   "source": [
    "a = [1, 2, 3]\n",
    "print(type(a))\n",
    "next(a)"
   ]
  },
  {
   "cell_type": "code",
   "execution_count": 3,
   "outputs": [
    {
     "name": "stdout",
     "output_type": "stream",
     "text": [
      "<class 'list_iterator'>\n",
      "1\n",
      "2\n",
      "3\n"
     ]
    },
    {
     "ename": "StopIteration",
     "evalue": "",
     "output_type": "error",
     "traceback": [
      "\u001B[1;31m---------------------------------------------------------------------------\u001B[0m",
      "\u001B[1;31mStopIteration\u001B[0m                             Traceback (most recent call last)",
      "Input \u001B[1;32mIn [3]\u001B[0m, in \u001B[0;36m<cell line: 5>\u001B[1;34m()\u001B[0m\n\u001B[0;32m      3\u001B[0m \u001B[38;5;28mprint\u001B[39m(\u001B[38;5;28mtype\u001B[39m(ia))\n\u001B[0;32m      5\u001B[0m \u001B[38;5;28;01mfor\u001B[39;00m _ \u001B[38;5;129;01min\u001B[39;00m \u001B[38;5;28mrange\u001B[39m(\u001B[38;5;241m4\u001B[39m):\n\u001B[1;32m----> 6\u001B[0m   \u001B[38;5;28mprint\u001B[39m(\u001B[38;5;28;43mnext\u001B[39;49m\u001B[43m(\u001B[49m\u001B[43mia\u001B[49m\u001B[43m)\u001B[49m)\n",
      "\u001B[1;31mStopIteration\u001B[0m: "
     ]
    }
   ],
   "source": [
    "a = [1, 2, 3]\n",
    "ia = iter(a)\n",
    "print(type(ia))\n",
    "\n",
    "for _ in range(4):\n",
    "  print(next(ia))"
   ],
   "metadata": {
    "collapsed": false,
    "pycharm": {
     "name": "#%%\n"
    }
   }
  },
  {
   "cell_type": "code",
   "execution_count": 4,
   "outputs": [
    {
     "name": "stdout",
     "output_type": "stream",
     "text": [
      "1\n",
      "2\n",
      "3\n"
     ]
    }
   ],
   "source": [
    "# for문을 이용하면 자동으로 호출해주기 때문에 next() 함수를 별도로 호출할 필요도 없고, StopIteration 예외를 신경쓸 필요도 없다.\n",
    "a = [1, 2, 3]\n",
    "ia = iter(a)\n",
    "type(ia)\n",
    "\n",
    "for i in ia:\n",
    "  print(i)\n",
    "\n",
    "for i in ia:\n",
    "  print(i)"
   ],
   "metadata": {
    "collapsed": false,
    "pycharm": {
     "name": "#%%\n"
    }
   }
  },
  {
   "cell_type": "code",
   "execution_count": 14,
   "outputs": [
    {
     "name": "stdout",
     "output_type": "stream",
     "text": [
      "<class '__main__.MyIterator'>\n",
      "1\n",
      "2\n",
      "3\n"
     ]
    }
   ],
   "source": [
    "# 이터레이터 만들기\n",
    "class MyIterator:\n",
    "  def __init__(self, data):\n",
    "    self.data = data\n",
    "    self.position = 0\n",
    "\n",
    "  def __iter__(self):\n",
    "    return self\n",
    "\n",
    "  def __next__(self):\n",
    "    if self.position >= len(self.data):\n",
    "      raise StopIteration\n",
    "    result = self.data[self.position]\n",
    "    self.position += 1\n",
    "    return result\n",
    "\n",
    "my_iterator = MyIterator([1,2,3])\n",
    "print(type(my_iterator))\n",
    "for i in my_iterator:\n",
    "  print(i)"
   ],
   "metadata": {
    "collapsed": false,
    "pycharm": {
     "name": "#%%\n"
    }
   }
  },
  {
   "cell_type": "code",
   "execution_count": 12,
   "outputs": [
    {
     "name": "stdout",
     "output_type": "stream",
     "text": [
      "3\n",
      "2\n",
      "1\n"
     ]
    }
   ],
   "source": [
    "# 이터레이터 만들기\n",
    "class MyIterator:\n",
    "  def __init__(self, data):\n",
    "    self.data = data\n",
    "    self.position = len(self.data) - 1\n",
    "\n",
    "  def __iter__(self): # 이터레이터 객체를 반환하는 메서드\n",
    "    return self\n",
    "\n",
    "  def __next__(self): # next() 호출시 실행되는 메서드\n",
    "    if self.position < 0:\n",
    "      raise StopIteration\n",
    "    result = self.data[self.position]\n",
    "    self.position -= 1\n",
    "    return result\n",
    "\n",
    "my_iterator = MyIterator([1,2,3])\n",
    "for i in my_iterator:\n",
    "  print(i)"
   ],
   "metadata": {
    "collapsed": false,
    "pycharm": {
     "name": "#%%\n"
    }
   }
  },
  {
   "cell_type": "markdown",
   "source": [
    "# Generator\n",
    "- 함수를 이용하여 연속된 값을 차례대로 반환하는 루틴\n",
    "- 제너레이터는 이터레이터와 마찬가지로 next( )함수를 호출하면 그 값을 차례대로 얻을 수 있다.\n",
    "- 이때, 제너레이터에서는 차례대로 결과를 반환하고자 return 대신 yield 키워드를 사용한다."
   ],
   "metadata": {
    "collapsed": false,
    "pycharm": {
     "name": "#%% md\n"
    }
   }
  },
  {
   "cell_type": "code",
   "execution_count": 7,
   "outputs": [
    {
     "name": "stdout",
     "output_type": "stream",
     "text": [
      "<class 'generator'>\n",
      "A\n",
      "B\n",
      "C\n"
     ]
    }
   ],
   "source": [
    "def my_generator():\n",
    "  yield 'A'\n",
    "  yield 'B'\n",
    "  yield 'C'\n",
    "\n",
    "g = my_generator()\n",
    "print(type(g))\n",
    "\n",
    "for _ in range(3):\n",
    "  print(next(g))"
   ],
   "metadata": {
    "collapsed": false,
    "pycharm": {
     "name": "#%%\n"
    }
   }
  },
  {
   "cell_type": "code",
   "execution_count": 8,
   "outputs": [
    {
     "name": "stdout",
     "output_type": "stream",
     "text": [
      "1 4 9 16 25 36 49 64 81 100 "
     ]
    }
   ],
   "source": [
    "def my_generator():\n",
    "  for i in range(1, 100):\n",
    "    yield i * i\n",
    "\n",
    "g1 = my_generator()  # 함수의 리턴값은 generator 객체\n",
    "for _ in range(10):\n",
    "  print(next(g1), end=' ')"
   ],
   "metadata": {
    "collapsed": false,
    "pycharm": {
     "name": "#%%\n"
    }
   }
  },
  {
   "cell_type": "code",
   "execution_count": 9,
   "outputs": [
    {
     "name": "stdout",
     "output_type": "stream",
     "text": [
      "1 4 9 16 25 36 49 64 81 100 "
     ]
    }
   ],
   "source": [
    "def my_generator():\n",
    "  for i in range(1, 100):\n",
    "    yield i * i\n",
    "\n",
    "g1 = my_generator()  # 함수의 리턴값은 generator 객체\n",
    "for _ in range(10):\n",
    "  print(next(g1), end=' ')"
   ],
   "metadata": {
    "collapsed": false,
    "pycharm": {
     "name": "#%%\n"
    }
   }
  },
  {
   "cell_type": "markdown",
   "source": [
    "# 제너레이터의 쓸모\n",
    "- 임의의 조건으로 숫자 1억개를 만들어내는 프로그램을 작성한다고 할때, 제너레이터가 없다면 메모리에 숫자 1억개를 저장하고 있어야 한다.\n",
    "그러나 제너레이터를 이용하면 제너레이터만 생성해두고 필요할 때 언제든 숫자를 만들어낼 수 있다.\n",
    "- 파이썬은 기본적으로 파일 객체를 제너레이터로 만들어 처리한다."
   ],
   "metadata": {
    "collapsed": false,
    "pycharm": {
     "name": "#%% md\n"
    }
   }
  },
  {
   "cell_type": "code",
   "execution_count": 10,
   "outputs": [
    {
     "name": "stdout",
     "output_type": "stream",
     "text": [
      "<class 'list'> <class 'generator'>\n",
      "8448728 112\n"
     ]
    }
   ],
   "source": [
    "import sys\n",
    "\n",
    "a = [n for n in range(1000000)]\n",
    "b = (i for i in range(1000000))\n",
    "print(type(a), type(b))\n",
    "\n",
    "print(sys.getsizeof(a), sys.getsizeof(b))   # 메모리 점유율"
   ],
   "metadata": {
    "collapsed": false,
    "pycharm": {
     "name": "#%%\n"
    }
   }
  },
  {
   "cell_type": "code",
   "execution_count": 11,
   "outputs": [
    {
     "name": "stdout",
     "output_type": "stream",
     "text": [
      "1000000 1000000 True\n",
      "<class 'list'> <class 'range'>\n",
      "8448728 48\n"
     ]
    }
   ],
   "source": [
    "# 제너레이터 방식을 활용하는 대표적인 함수로 range()가 있다.\n",
    "a = [n for n in range(1000000)]\n",
    "b = range(1000000)\n",
    "\n",
    "print(len(a), len(b), len(a) == len(b))\n",
    "print(type(a), type(b))\n",
    "print(sys.getsizeof(a), sys.getsizeof(b))   # 메모리 점유율"
   ],
   "metadata": {
    "collapsed": false,
    "pycharm": {
     "name": "#%%\n"
    }
   }
  },
  {
   "cell_type": "code",
   "execution_count": null,
   "outputs": [],
   "source": [],
   "metadata": {
    "collapsed": false,
    "pycharm": {
     "name": "#%%\n"
    }
   }
  }
 ],
 "metadata": {
  "kernelspec": {
   "display_name": "Python 3",
   "language": "python",
   "name": "python3"
  },
  "language_info": {
   "codemirror_mode": {
    "name": "ipython",
    "version": 2
   },
   "file_extension": ".py",
   "mimetype": "text/x-python",
   "name": "python",
   "nbconvert_exporter": "python",
   "pygments_lexer": "ipython2",
   "version": "2.7.6"
  }
 },
 "nbformat": 4,
 "nbformat_minor": 0
}