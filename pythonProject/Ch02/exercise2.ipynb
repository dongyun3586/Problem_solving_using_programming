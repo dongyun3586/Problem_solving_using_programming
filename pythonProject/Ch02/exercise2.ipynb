{
 "cells": [
  {
   "cell_type": "code",
   "execution_count": 1,
   "metadata": {
    "collapsed": true,
    "pycharm": {
     "name": "#%%\n"
    }
   },
   "outputs": [],
   "source": [
    "poem = '''\n",
    "나 보기가 역겨워 가실 때에는 말없이 고이 보내 드리오리다\n",
    "연변에 약산 진달래꽃 아름 따다 가실 길에 뿌리오리다\n",
    "가시는 걸음 걸음 놓인 그 꽃을 사뿐히 즈려 밟고 가시옵소서\n",
    "나 보기가 역겨워 가실 때에는 죽어도 아니 눈물 흘리오리다\n",
    "'''"
   ]
  },
  {
   "cell_type": "code",
   "execution_count": 5,
   "outputs": [
    {
     "name": "stdout",
     "output_type": "stream",
     "text": [
      "원문 \n",
      "나 보기가 역겨워 가실 때에는 말없이 고이 보내 드리오리다\n",
      "연변에 약산 진달래꽃 아름 따다 가실 길에 뿌리오리다\n",
      "가시는 걸음 걸음 놓인 그 꽃을 사뿐히 즈려 밟고 가시옵소서\n",
      "나 보기가 역겨워 가실 때에는 죽어도 아니 눈물 흘리오리다\n",
      "\n",
      "----------------------------------\n",
      "문자 빈도수(4회 이상)\n",
      "----------------------------------\n",
      "에 --> 4\n",
      "리 --> 6\n",
      "__main__\n"
     ]
    }
   ],
   "source": [
    "countDic = {}\n",
    "except_word = [\"가\", \"나\", \"다\", \"라\"]\n",
    "\n",
    "if __name__ == \"__main__\":\n",
    "    for ch in poem:\n",
    "        if ch.isalpha():\n",
    "            if ch in countDic:\n",
    "                countDic[ch] += 1\n",
    "            else:\n",
    "                countDic[ch] = 1\n",
    "\n",
    "    print('원문', poem)\n",
    "    print('----------------------------------')\n",
    "    print('문자 빈도수(4회 이상)')\n",
    "    print('----------------------------------')\n",
    "    for key in countDic:\n",
    "        if key in except_word:\n",
    "            continue\n",
    "        if countDic[key] >= 4:\n",
    "            print(key, '-->', countDic[key])\n",
    "\n",
    "print(__name__)"
   ],
   "metadata": {
    "collapsed": false,
    "pycharm": {
     "name": "#%%\n"
    }
   }
  },
  {
   "cell_type": "code",
   "execution_count": 6,
   "outputs": [
    {
     "name": "stdout",
     "output_type": "stream",
     "text": [
      "원문 \n",
      "나 보기가 역겨워 가실 때에는 말없이 고이 보내 드리오리다\n",
      "연변에 약산 진달래꽃 아름 따다 가실 길에 뿌리오리다\n",
      "가시는 걸음 걸음 놓인 그 꽃을 사뿐히 즈려 밟고 가시옵소서\n",
      "나 보기가 역겨워 가실 때에는 죽어도 아니 눈물 흘리오리다\n",
      "\n",
      "----------------------------------\n",
      "문자 빈도수(4회 이상)\n",
      "----------------------------------\n",
      "에 --> 4\n",
      "리 --> 6\n"
     ]
    }
   ],
   "source": [
    "import re\n",
    "import collections\n",
    "\n",
    "except_word = [\"가\", \"나\", \"다\", \"라\"]\n",
    "words = [word for word in re.sub(r'[^\\w]', '', poem)\n",
    "         if word not in except_word]\n",
    "\n",
    "counts = collections.defaultdict(int)\n",
    "for word in words:\n",
    "  counts[word]+=1\n",
    "\n",
    "print('원문', poem)\n",
    "print('----------------------------------')\n",
    "print('문자 빈도수(4회 이상)')\n",
    "print('----------------------------------')\n",
    "for key in counts:\n",
    "    if counts[key] >= 4:\n",
    "        print(key, '-->', counts[key])"
   ],
   "metadata": {
    "collapsed": false,
    "pycharm": {
     "name": "#%%\n"
    }
   }
  },
  {
   "cell_type": "code",
   "execution_count": null,
   "outputs": [],
   "source": [],
   "metadata": {
    "collapsed": false,
    "pycharm": {
     "name": "#%%\n"
    }
   }
  }
 ],
 "metadata": {
  "kernelspec": {
   "display_name": "Python 3",
   "language": "python",
   "name": "python3"
  },
  "language_info": {
   "codemirror_mode": {
    "name": "ipython",
    "version": 2
   },
   "file_extension": ".py",
   "mimetype": "text/x-python",
   "name": "python",
   "nbconvert_exporter": "python",
   "pygments_lexer": "ipython2",
   "version": "2.7.6"
  }
 },
 "nbformat": 4,
 "nbformat_minor": 0
}