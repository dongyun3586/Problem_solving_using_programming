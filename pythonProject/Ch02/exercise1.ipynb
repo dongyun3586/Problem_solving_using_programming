{
 "cells": [
  {
   "cell_type": "code",
   "execution_count": 11,
   "metadata": {
    "collapsed": true,
    "pycharm": {
     "name": "#%%\n"
    }
   },
   "outputs": [
    {
     "name": "stdout",
     "output_type": "stream",
     "text": [
      "** 로또 번호 생성을 시작합니다. **\n",
      "자동번호-->  6 19 25 28 30 44 \n",
      "자동번호--> 15 32 36 39 41 43 \n",
      "자동번호-->  4 12 14 15 20 22 \n",
      "자동번호-->  4  9 10 17 24 28 \n",
      "자동번호-->  5 25 30 33 34 39 \n"
     ]
    }
   ],
   "source": [
    "import random\n",
    "\n",
    "total_lotto = []\n",
    "count = 0\n",
    "\n",
    "print(\"** 로또 번호 생성을 시작합니다. **\")\n",
    "count = int(input('몇 번을 뽑을까요?'))\n",
    "\n",
    "for _ in range(count):\n",
    "    lotto = []\n",
    "    while True:\n",
    "        pick_num = random.randint(1, 45)\n",
    "        if pick_num not in lotto:\n",
    "            lotto.append(pick_num)\n",
    "        if len(lotto)>=6:\n",
    "            break\n",
    "    total_lotto.append(lotto)\n",
    "\n",
    "for lotto in total_lotto:\n",
    "    lotto.sort()\n",
    "    print('자동번호-->', end=' ')\n",
    "    for i in range(6):\n",
    "        print(f\"{lotto[i]:2d}\", end=' ')\n",
    "    print()"
   ]
  },
  {
   "cell_type": "code",
   "execution_count": 13,
   "outputs": [
    {
     "name": "stdout",
     "output_type": "stream",
     "text": [
      "** 로또 번호 생성을 시작합니다. **\n",
      "자동번호--> 15 16 26 36 40 44 \n",
      "자동번호--> 14 16 25 37 38 40 \n",
      "자동번호--> 14 22 24 27 29 30 \n",
      "자동번호-->  4 11 23 32 38 41 \n",
      "자동번호-->  7 10 15 22 39 42 \n"
     ]
    }
   ],
   "source": [
    "# random.sample() 사용\n",
    "import random\n",
    "\n",
    "total_lotto = []\n",
    "count = 0\n",
    "\n",
    "print(\"** 로또 번호 생성을 시작합니다. **\")\n",
    "count = int(input('몇 번을 뽑을까요?'))\n",
    "\n",
    "for _ in range(count):\n",
    "    total_lotto.append(random.sample(range(1, 46), 6))\n",
    "\n",
    "for lotto in total_lotto:\n",
    "    lotto.sort()\n",
    "    print('자동번호-->', end=' ')\n",
    "    for i in range(6):\n",
    "        print(f\"{lotto[i]:2d}\", end=' ')\n",
    "    print()"
   ],
   "metadata": {
    "collapsed": false,
    "pycharm": {
     "name": "#%%\n"
    }
   }
  },
  {
   "cell_type": "code",
   "execution_count": 337,
   "outputs": [
    {
     "name": "stdout",
     "output_type": "stream",
     "text": [
      "** 로또 번호 생성을 시작합니다. **\n",
      "  1 [3, 4, 7, 34, 36, 37]\n",
      "  2 [1, 14, 20, 22, 23, 42]\n",
      "  3 [19, 22, 23, 25, 40, 43]\n",
      "  4 [25, 32, 38, 41, 44, 45]\n",
      "  5 [2, 4, 5, 9, 25, 28]\n"
     ]
    }
   ],
   "source": [
    "import random\n",
    "\n",
    "# Iterator 사용 로또 번호 생성기\n",
    "class LottoNumbersIterator:\n",
    "    def __iter__(self):\n",
    "        return self\n",
    "\n",
    "    def __next__(self):\n",
    "        # data = list(range(1, 46))\n",
    "        while True:\n",
    "            # return [data.pop(random.randint(0, len(data)-1)) for _ in range(6)]\n",
    "            return random.sample(range(1, 46), 6)\n",
    "\n",
    "print(\"** 로또 번호 생성을 시작합니다. **\")\n",
    "count = int(input('몇 번을 뽑을까요?'))\n",
    "\n",
    "my_lotto = LottoNumbersIterator()\n",
    "for i, _ in enumerate(range(count)):\n",
    "    lotto_number = next(my_lotto)\n",
    "    lotto_number.sort()\n",
    "    print(f\"{i+1:3d}\", lotto_number)\n"
   ],
   "metadata": {
    "collapsed": false,
    "pycharm": {
     "name": "#%%\n"
    }
   }
  },
  {
   "cell_type": "code",
   "execution_count": 338,
   "outputs": [
    {
     "name": "stdout",
     "output_type": "stream",
     "text": [
      "** 로또 번호 생성을 시작합니다. **\n",
      "  1 [1, 16, 20, 34, 35, 40]\n",
      "  2 [19, 29, 30, 35, 43, 44]\n",
      "  3 [3, 6, 13, 15, 18, 41]\n",
      "  4 [1, 3, 14, 26, 29, 33]\n",
      "  5 [2, 4, 9, 34, 36, 40]\n"
     ]
    }
   ],
   "source": [
    "import random\n",
    "\n",
    "# Generator 로또 번호 생성기\n",
    "def lotto_numbers_generator():\n",
    "    while True:\n",
    "        yield random.sample(range(1, 46), 6)\n",
    "print(\"** 로또 번호 생성을 시작합니다. **\")\n",
    "count = int(input('몇 번을 뽑을까요?'))\n",
    "\n",
    "my_lotto = lotto_numbers_generator()\n",
    "for i, _ in enumerate(range(count)):\n",
    "    lotto_number = next(my_lotto)\n",
    "    lotto_number.sort()\n",
    "    print(f\"{i+1:3d}\", lotto_number)\n"
   ],
   "metadata": {
    "collapsed": false,
    "pycharm": {
     "name": "#%%\n"
    }
   }
  },
  {
   "cell_type": "code",
   "execution_count": 322,
   "outputs": [],
   "source": [],
   "metadata": {
    "collapsed": false,
    "pycharm": {
     "name": "#%%\n"
    }
   }
  }
 ],
 "metadata": {
  "kernelspec": {
   "display_name": "Python 3",
   "language": "python",
   "name": "python3"
  },
  "language_info": {
   "codemirror_mode": {
    "name": "ipython",
    "version": 2
   },
   "file_extension": ".py",
   "mimetype": "text/x-python",
   "name": "python",
   "nbconvert_exporter": "python",
   "pygments_lexer": "ipython2",
   "version": "2.7.6"
  }
 },
 "nbformat": 4,
 "nbformat_minor": 0
}