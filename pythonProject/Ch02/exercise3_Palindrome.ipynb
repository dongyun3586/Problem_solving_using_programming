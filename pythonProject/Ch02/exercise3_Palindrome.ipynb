{
 "cells": [
  {
   "cell_type": "code",
   "execution_count": 19,
   "metadata": {
    "collapsed": true,
    "pycharm": {
     "name": "#%%\n"
    }
   },
   "outputs": [],
   "source": [
    "# 1. 리스트를 이용한 처리\n",
    "import collections\n",
    "\n",
    "\n",
    "def isPalindrome1(s: str)->bool:\n",
    "    strs = []\n",
    "\n",
    "    # 모두 소문자로 변환\n",
    "    for char in s:\n",
    "        if char.isalnum():\n",
    "            strs.append(char.lower())\n",
    "\n",
    "    # 팬린드롬 여부 판단\n",
    "    while len(strs)>1:\n",
    "        if strs.pop(0) != strs.pop():\n",
    "            return False\n",
    "\n",
    "    return True\n"
   ]
  },
  {
   "cell_type": "code",
   "execution_count": 20,
   "outputs": [
    {
     "name": "stdout",
     "output_type": "stream",
     "text": [
      "True True True True True "
     ]
    }
   ],
   "source": [
    "str_list = [\"Don't nod.\", \"Madam, I'm Adam.\", \"Step on no pets.\", \"Was it a cat I saw?\", \"Able was I, ere I saw Elba.\"]\n",
    "\n",
    "for s in str_list:\n",
    "    print(isPalindrome1(s), end=' ')"
   ],
   "metadata": {
    "collapsed": false,
    "pycharm": {
     "name": "#%%\n"
    }
   }
  },
  {
   "cell_type": "code",
   "execution_count": 27,
   "outputs": [],
   "source": [
    "import collections\n",
    "\n",
    "# 2. Deque 자료형을 이용한 처리\n",
    "def isPalindrome2(s: str)->bool:\n",
    "    strs_deque = collections.deque()\n",
    "\n",
    "    # 모두 소문자로 변환\n",
    "    for char in s:\n",
    "        if char.isalnum():\n",
    "            strs_deque.append(char.lower())\n",
    "\n",
    "    # 팬린드롬 여부 판단\n",
    "    while len(strs_deque)>1:\n",
    "        if strs_deque.popleft() != strs_deque.pop():\n",
    "            return False\n",
    "\n",
    "    return True"
   ],
   "metadata": {
    "collapsed": false,
    "pycharm": {
     "name": "#%%\n"
    }
   }
  },
  {
   "cell_type": "code",
   "execution_count": 28,
   "outputs": [
    {
     "name": "stdout",
     "output_type": "stream",
     "text": [
      "True True True True True "
     ]
    }
   ],
   "source": [
    "str_list = [\"Don't nod.\", \"Madam, I'm Adam.\", \"Step on no pets.\", \"Was it a cat I saw?\", \"Able was I, ere I saw Elba.\"]\n",
    "\n",
    "for s in str_list:\n",
    "    print(isPalindrome2(s), end=' ')"
   ],
   "metadata": {
    "collapsed": false,
    "pycharm": {
     "name": "#%%\n"
    }
   }
  },
  {
   "cell_type": "code",
   "execution_count": 31,
   "outputs": [],
   "source": [
    "import re\n",
    "\n",
    "# 3. 슬라이싱을 이용한 처리\n",
    "def isPalindrome3(s: str)->bool:\n",
    "    s = s.lower()\n",
    "    # 정규식으로 불필요한 문장 필터링\n",
    "    s = re.sub('[^a-z0-9]', '', s)\n",
    "\n",
    "    return s == s[::-1]"
   ],
   "metadata": {
    "collapsed": false,
    "pycharm": {
     "name": "#%%\n"
    }
   }
  },
  {
   "cell_type": "code",
   "execution_count": 32,
   "outputs": [
    {
     "name": "stdout",
     "output_type": "stream",
     "text": [
      "True True True True True "
     ]
    }
   ],
   "source": [
    "str_list = [\"Don't nod.\", \"Madam, I'm Adam.\", \"Step on no pets.\", \"Was it a cat I saw?\", \"Able was I, ere I saw Elba.\"]\n",
    "\n",
    "for s in str_list:\n",
    "    print(isPalindrome3(s), end=' ')"
   ],
   "metadata": {
    "collapsed": false,
    "pycharm": {
     "name": "#%%\n"
    }
   }
  },
  {
   "cell_type": "code",
   "execution_count": 44,
   "outputs": [
    {
     "name": "stdout",
     "output_type": "stream",
     "text": [
      "3와 4의 덧셈 결과: 7\n",
      "3와 4의 뺄셈 결과: -1\n"
     ]
    }
   ],
   "source": [
    "# lambda는 함수를 생성할 때 사용하는 예약어로 def와 동일한 역할\n",
    "# def를 사용해야 할 정도로 복잡하지 않거나 def를 사용할 수 없는 곳에 주로 쓰인다.\n",
    "# lambda 매개변수1, 매개변수2, ... : 매개변수를 이용한 표현식\n",
    "\n",
    "def add(a, b):\n",
    "    return a + b\n",
    "\n",
    "def subtract(a, b):\n",
    "    return a - b\n",
    "\n",
    "def calc(operator, func, a, b):\n",
    "    print(f'{a}와 {b}의 {operator} 결과: {func(a, b)}')\n",
    "\n",
    "calc('덧셈', add, 3, 4)\n",
    "calc('뺄셈', subtract, 3, 4)"
   ],
   "metadata": {
    "collapsed": false,
    "pycharm": {
     "name": "#%%\n"
    }
   }
  },
  {
   "cell_type": "code",
   "execution_count": 45,
   "outputs": [
    {
     "name": "stdout",
     "output_type": "stream",
     "text": [
      "3와 4의 곱셈 결과: 12\n",
      "3와 4의 나눗셈 결과: 0.75\n"
     ]
    }
   ],
   "source": [
    "# lambda 매개변수 지정: 뒤에 반환값으로 사용할 식을 지정\n",
    "calc('곱셈', lambda a, b: a*b, 3, 4)\n",
    "calc('나눗셈', lambda a, b: a/b, 3, 4)"
   ],
   "metadata": {
    "collapsed": false,
    "pycharm": {
     "name": "#%%\n"
    }
   }
  },
  {
   "cell_type": "code",
   "execution_count": null,
   "outputs": [],
   "source": [],
   "metadata": {
    "collapsed": false,
    "pycharm": {
     "name": "#%%\n"
    }
   }
  }
 ],
 "metadata": {
  "kernelspec": {
   "display_name": "Python 3",
   "language": "python",
   "name": "python3"
  },
  "language_info": {
   "codemirror_mode": {
    "name": "ipython",
    "version": 2
   },
   "file_extension": ".py",
   "mimetype": "text/x-python",
   "name": "python",
   "nbconvert_exporter": "python",
   "pygments_lexer": "ipython2",
   "version": "2.7.6"
  }
 },
 "nbformat": 4,
 "nbformat_minor": 0
}