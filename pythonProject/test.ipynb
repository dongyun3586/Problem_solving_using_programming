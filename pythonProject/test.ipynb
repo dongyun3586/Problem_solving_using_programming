{
 "cells": [
  {
   "cell_type": "code",
   "execution_count": 1,
   "metadata": {
    "collapsed": true,
    "pycharm": {
     "name": "#%%\n"
    }
   },
   "outputs": [
    {
     "name": "stdout",
     "output_type": "stream",
     "text": [
      "Hello World\n"
     ]
    }
   ],
   "source": [
    "print('Hello World')"
   ]
  },
  {
   "cell_type": "code",
   "execution_count": 5,
   "outputs": [
    {
     "name": "stdout",
     "output_type": "stream",
     "text": [
      "1 2 3 40 50 (60, 70, 80)\n"
     ]
    }
   ],
   "source": [
    "def func1(a, b, c, d=4, e=5, *args):\n",
    "    print(a, b, c, d, e, args)\n",
    "\n",
    "func1(1, 2, 3, 40, 50 , 60 , 70, 80)"
   ],
   "metadata": {
    "collapsed": false,
    "pycharm": {
     "name": "#%%\n"
    }
   }
  },
  {
   "cell_type": "code",
   "execution_count": 11,
   "outputs": [
    {
     "name": "stdout",
     "output_type": "stream",
     "text": [
      "1 2 3 40 50 (60, 70, 80) 111 222 333 444 {}\n"
     ]
    }
   ],
   "source": [
    "def func2(a, b, c, d=4, e=5, *args, kw1, kw2=222, kw3, kw4=444, **kwargs):\n",
    "    print(a, b, c, d, e, args, kw1, kw2, kw3, kw4, kwargs)\n",
    "\n",
    "func2(1, 2, 3, 40, 50 , 60 , 70, 80, kw1=111, kw3=333)"
   ],
   "metadata": {
    "collapsed": false,
    "pycharm": {
     "name": "#%%\n"
    }
   }
  },
  {
   "cell_type": "code",
   "execution_count": 14,
   "outputs": [
    {
     "name": "stdout",
     "output_type": "stream",
     "text": [
      "1 2 3 40 50 (60, 70, 80) 111 222 333 444 {'kw5': 555, 'kw6': 666, 'kw7': 777}\n"
     ]
    }
   ],
   "source": [
    "func2(1, 2, 3, 40, 50 , 60 , 70, 80, kw1=111, kw2=222, kw3=333, kw4=444, kw5=555, kw6=666, kw7=777)"
   ],
   "metadata": {
    "collapsed": false,
    "pycharm": {
     "name": "#%%\n"
    }
   }
  },
  {
   "cell_type": "code",
   "execution_count": 22,
   "outputs": [
    {
     "name": "stdout",
     "output_type": "stream",
     "text": [
      "1 2 3 4 5 "
     ]
    }
   ],
   "source": [
    "import random\n",
    "\n",
    "def lotto_generator():\n",
    "    numbers = list(range(1, 46))\n",
    "    for i in range(len(numbers)):\n",
    "        yield numbers[i]\n",
    "\n",
    "lotto_1 = lotto_generator()\n",
    "for _ in range(5):\n",
    "    print(next(lotto_1), end=' ')"
   ],
   "metadata": {
    "collapsed": false,
    "pycharm": {
     "name": "#%%\n"
    }
   }
  },
  {
   "cell_type": "code",
   "execution_count": 35,
   "outputs": [
    {
     "name": "stdout",
     "output_type": "stream",
     "text": [
      "[2, 30, 32]\n",
      "44\n",
      "4\n",
      "4\n",
      "36\n",
      "3\n"
     ]
    }
   ],
   "source": [
    "import random\n",
    "l = range(1, 46)\n",
    "print(random.sample(l, 3))\n",
    "print(random.choice(l))\n",
    "print(random.choice(l))\n",
    "print(random.choice(l))\n",
    "print(random.choice(l))\n",
    "print(random.choice(l))"
   ],
   "metadata": {
    "collapsed": false,
    "pycharm": {
     "name": "#%%\n"
    }
   }
  },
  {
   "cell_type": "code",
   "execution_count": 17,
   "outputs": [
    {
     "name": "stdout",
     "output_type": "stream",
     "text": [
      "1 4 9 16 25 36 49 64 81 100 "
     ]
    }
   ],
   "source": [
    "def my_generator():\n",
    "  for i in range(1, 100):\n",
    "    yield i * i\n",
    "\n",
    "g1 = my_generator()  # 함수의 리턴값은 generator 객체\n",
    "for _ in range(10):\n",
    "  print(next(g1), end=' ')"
   ],
   "metadata": {
    "collapsed": false,
    "pycharm": {
     "name": "#%%\n"
    }
   }
  },
  {
   "cell_type": "code",
   "execution_count": null,
   "outputs": [],
   "source": [],
   "metadata": {
    "collapsed": false,
    "pycharm": {
     "name": "#%%\n"
    }
   }
  }
 ],
 "metadata": {
  "kernelspec": {
   "display_name": "Python 3",
   "language": "python",
   "name": "python3"
  },
  "language_info": {
   "codemirror_mode": {
    "name": "ipython",
    "version": 2
   },
   "file_extension": ".py",
   "mimetype": "text/x-python",
   "name": "python",
   "nbconvert_exporter": "python",
   "pygments_lexer": "ipython2",
   "version": "2.7.6"
  }
 },
 "nbformat": 4,
 "nbformat_minor": 0
}