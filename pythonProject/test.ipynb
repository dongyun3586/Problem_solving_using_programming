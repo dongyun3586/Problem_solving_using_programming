{
 "cells": [
  {
   "cell_type": "code",
   "execution_count": 5,
   "metadata": {
    "collapsed": true,
    "pycharm": {
     "name": "#%%\n"
    }
   },
   "outputs": [
    {
     "name": "stdout",
     "output_type": "stream",
     "text": [
      "selection_sort() 함수 수행시간: 1.944009780883789초\n",
      "basic_sort() 함수 수행시간: 0.005999565124511719초\n"
     ]
    }
   ],
   "source": [
    "import time\n",
    "import random\n",
    "\n",
    "def elapsed(func):\n",
    "  def inner_func():\n",
    "    start = time.time()\n",
    "    func()\n",
    "    end = time.time()\n",
    "    # print(f\"함수 수행시간: {end-start}초\")\n",
    "    return end-start\n",
    "  return inner_func\n",
    "\n",
    "def selection_sort():\n",
    "    # 배열에 10,000개의 정수를 삽입\n",
    "    random.seed(123)\n",
    "    array = []\n",
    "    for _ in range(10000):\n",
    "        array.append(random.randint(1, 100)) # 1부터 100 사이의 랜덤한 정수\n",
    "\n",
    "    # 선택 정렬 프로그램 소스코드\n",
    "    for i in range(len(array)):\n",
    "        min_index = i # 가장 작은 원소의 인덱스\n",
    "        for j in range(i + 1, len(array)):\n",
    "            if array[min_index] > array[j]:\n",
    "                min_index = j\n",
    "        array[i], array[min_index] = array[min_index], array[i] # 스와프\n",
    "\n",
    "def basic_sort():\n",
    "    # 배열에 10,000개의 정수를 삽입\n",
    "    random.seed(123)\n",
    "    array = []\n",
    "    for _ in range(10000):\n",
    "        array.append(random.randint(1, 100)) # 1부터 100 사이의 랜덤한 정수\n",
    "\n",
    "    # 기본 정렬 라이브러리 사용\n",
    "    array.sort()\n",
    "\n",
    "decorated_selection_sort = elapsed(selection_sort)\n",
    "print(f'selection_sort() 함수 수행시간: {decorated_selection_sort()}초')\n",
    "\n",
    "decorated_basic_sort = elapsed(basic_sort)\n",
    "print(f'basic_sort() 함수 수행시간: {decorated_basic_sort()}초')"
   ]
  },
  {
   "cell_type": "code",
   "execution_count": 11,
   "outputs": [
    {
     "name": "stdout",
     "output_type": "stream",
     "text": [
      "함수 수행시간: 0.4040694236755371초\n"
     ]
    },
    {
     "data": {
      "text/plain": "50000005000000"
     },
     "execution_count": 11,
     "metadata": {},
     "output_type": "execute_result"
    }
   ],
   "source": [
    "import time\n",
    "\n",
    "def elapsed(func):\n",
    "  def inner_func(*args, **kwargs):\n",
    "    start = time.time()\n",
    "    result = func(*args, **kwargs)\n",
    "    end = time.time()\n",
    "    print(f\"함수 수행시간: {end-start}초\")\n",
    "    return result\n",
    "  return inner_func\n",
    "\n",
    "@elapsed\n",
    "def my_func(n: int):\n",
    "  sum = 0\n",
    "  for i in range(n + 1):\n",
    "    sum += i\n",
    "  return sum\n",
    "\n",
    "my_func(10000000)"
   ],
   "metadata": {
    "collapsed": false,
    "pycharm": {
     "name": "#%%\n"
    }
   }
  },
  {
   "cell_type": "code",
   "execution_count": 15,
   "outputs": [
    {
     "name": "stdout",
     "output_type": "stream",
     "text": [
      "함수 수행시간: 0.44899821281433105초\n"
     ]
    },
    {
     "data": {
      "text/plain": "50000004999997"
     },
     "execution_count": 15,
     "metadata": {},
     "output_type": "execute_result"
    }
   ],
   "source": [
    "import time\n",
    "\n",
    "def elapsed(func):\n",
    "  def inner_func(*args, **kwargs):\n",
    "    start = time.time()\n",
    "    result = func(*args, **kwargs)\n",
    "    end = time.time()\n",
    "    print(f\"함수 수행시간: {end-start}초\")\n",
    "    return result\n",
    "  return inner_func\n",
    "\n",
    "@elapsed\n",
    "def my_func(a: int , b: int):\n",
    "  sum = 0\n",
    "  for i in range(a, b + 1):\n",
    "    sum += i\n",
    "  return sum\n",
    "\n",
    "my_func(3, 10000000)"
   ],
   "metadata": {
    "collapsed": false,
    "pycharm": {
     "name": "#%%\n"
    }
   }
  },
  {
   "cell_type": "code",
   "execution_count": 17,
   "outputs": [
    {
     "name": "stdout",
     "output_type": "stream",
     "text": [
      "함수 수행시간: 3.3966922760009766초\n"
     ]
    },
    {
     "data": {
      "text/plain": "5000000049994950"
     },
     "execution_count": 17,
     "metadata": {},
     "output_type": "execute_result"
    }
   ],
   "source": [
    "import time\n",
    "\n",
    "def elapsed(func):\n",
    "  def inner_func(*args, **kwargs):\n",
    "    start = time.time()\n",
    "    result = func(*args, **kwargs)\n",
    "    end = time.time()\n",
    "    print(f\"함수 수행시간: {end-start}초\")\n",
    "    return result\n",
    "  return inner_func\n",
    "\n",
    "@elapsed\n",
    "def my_func(a: int , b: int):\n",
    "  sum = 0\n",
    "  for i in range(a, b + 1):\n",
    "    sum += i\n",
    "  return sum\n",
    "\n",
    "a, b = map(int, input().split())\n",
    "my_func(a, b)"
   ],
   "metadata": {
    "collapsed": false,
    "pycharm": {
     "name": "#%%\n"
    }
   }
  },
  {
   "cell_type": "code",
   "execution_count": 5,
   "outputs": [
    {
     "name": "stdout",
     "output_type": "stream",
     "text": [
      "1 2 3 40 50 (60, 70, 80)\n"
     ]
    }
   ],
   "source": [
    "def func1(a, b, c, d=4, e=5, *args):\n",
    "    print(a, b, c, d, e, args)\n",
    "\n",
    "func1(1, 2, 3, 40, 50 , 60 , 70, 80)"
   ],
   "metadata": {
    "collapsed": false,
    "pycharm": {
     "name": "#%%\n"
    }
   }
  },
  {
   "cell_type": "code",
   "execution_count": 11,
   "outputs": [
    {
     "name": "stdout",
     "output_type": "stream",
     "text": [
      "1 2 3 40 50 (60, 70, 80) 111 222 333 444 {}\n"
     ]
    }
   ],
   "source": [
    "def func2(a, b, c, d=4, e=5, *args, kw1, kw2=222, kw3, kw4=444, **kwargs):\n",
    "    print(a, b, c, d, e, args, kw1, kw2, kw3, kw4, kwargs)\n",
    "\n",
    "func2(1, 2, 3, 40, 50 , 60 , 70, 80, kw1=111, kw3=333)"
   ],
   "metadata": {
    "collapsed": false,
    "pycharm": {
     "name": "#%%\n"
    }
   }
  },
  {
   "cell_type": "code",
   "execution_count": 14,
   "outputs": [
    {
     "name": "stdout",
     "output_type": "stream",
     "text": [
      "1 2 3 40 50 (60, 70, 80) 111 222 333 444 {'kw5': 555, 'kw6': 666, 'kw7': 777}\n"
     ]
    }
   ],
   "source": [
    "func2(1, 2, 3, 40, 50 , 60 , 70, 80, kw1=111, kw2=222, kw3=333, kw4=444, kw5=555, kw6=666, kw7=777)"
   ],
   "metadata": {
    "collapsed": false,
    "pycharm": {
     "name": "#%%\n"
    }
   }
  },
  {
   "cell_type": "code",
   "execution_count": 22,
   "outputs": [
    {
     "name": "stdout",
     "output_type": "stream",
     "text": [
      "1 2 3 4 5 "
     ]
    }
   ],
   "source": [
    "import random\n",
    "\n",
    "def lotto_generator():\n",
    "    numbers = list(range(1, 46))\n",
    "    for i in range(len(numbers)):\n",
    "        yield numbers[i]\n",
    "\n",
    "lotto_1 = lotto_generator()\n",
    "for _ in range(5):\n",
    "    print(next(lotto_1), end=' ')"
   ],
   "metadata": {
    "collapsed": false,
    "pycharm": {
     "name": "#%%\n"
    }
   }
  },
  {
   "cell_type": "code",
   "execution_count": 35,
   "outputs": [
    {
     "name": "stdout",
     "output_type": "stream",
     "text": [
      "[2, 30, 32]\n",
      "44\n",
      "4\n",
      "4\n",
      "36\n",
      "3\n"
     ]
    }
   ],
   "source": [
    "import random\n",
    "l = range(1, 46)\n",
    "print(random.sample(l, 3))\n",
    "print(random.choice(l))\n",
    "print(random.choice(l))\n",
    "print(random.choice(l))\n",
    "print(random.choice(l))\n",
    "print(random.choice(l))"
   ],
   "metadata": {
    "collapsed": false,
    "pycharm": {
     "name": "#%%\n"
    }
   }
  },
  {
   "cell_type": "code",
   "execution_count": 17,
   "outputs": [
    {
     "name": "stdout",
     "output_type": "stream",
     "text": [
      "1 4 9 16 25 36 49 64 81 100 "
     ]
    }
   ],
   "source": [
    "def my_generator():\n",
    "  for i in range(1, 100):\n",
    "    yield i * i\n",
    "\n",
    "g1 = my_generator()  # 함수의 리턴값은 generator 객체\n",
    "for _ in range(10):\n",
    "  print(next(g1), end=' ')"
   ],
   "metadata": {
    "collapsed": false,
    "pycharm": {
     "name": "#%%\n"
    }
   }
  },
  {
   "cell_type": "code",
   "execution_count": 20,
   "outputs": [
    {
     "name": "stdout",
     "output_type": "stream",
     "text": [
      "0 1 2 3 4 5 6 7 8 9 10 11 12 13 14 15 16 17 18 19 20 21 22 23 24 25 26 27 28 29 30 31 32 33 34 35 36 37 38 39 40 41 42 43 44 45 46 47 48 49 50 51 52 53 54 55 56 57 58 59 60 61 62 63 64 65 66 67 68 69 70 71 72 73 74 75 76 77 78 79 80 81 82 83 84 85 86 87 88 89 90 91 92 93 94 95 96 97 98 99 "
     ]
    }
   ],
   "source": [
    "def my_gen1():\n",
    "    for i in range(100):\n",
    "        yield i\n",
    "    for j in range(101, 200):\n",
    "        yield j\n",
    "\n",
    "g1 = my_gen1()\n",
    "for i in range(100):\n",
    "    print(i, end=' ')"
   ],
   "metadata": {
    "collapsed": false,
    "pycharm": {
     "name": "#%%\n"
    }
   }
  }
 ],
 "metadata": {
  "kernelspec": {
   "display_name": "Python 3",
   "language": "python",
   "name": "python3"
  },
  "language_info": {
   "codemirror_mode": {
    "name": "ipython",
    "version": 2
   },
   "file_extension": ".py",
   "mimetype": "text/x-python",
   "name": "python",
   "nbconvert_exporter": "python",
   "pygments_lexer": "ipython2",
   "version": "2.7.6"
  }
 },
 "nbformat": 4,
 "nbformat_minor": 0
}