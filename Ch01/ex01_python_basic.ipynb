{
 "cells": [
  {
   "cell_type": "markdown",
   "metadata": {
    "pycharm": {
     "name": "#%% md\n"
    }
   },
   "source": [
    "### List Comprehension"
   ]
  },
  {
   "cell_type": "markdown",
   "metadata": {
    "pycharm": {
     "name": "#%% md\n"
    }
   },
   "source": [
    "- 기존 리스트를 기반으로 새로운 리스트를 만들어내는 구문\n",
    "- List Comprehension은 람다 표현식에 map이나 filter를 섞어서 사용하는 것에 비해 가독성이 높다."
   ]
  },
  {
   "cell_type": "code",
   "execution_count": 1,
   "metadata": {
    "pycharm": {
     "name": "#%%\n"
    }
   },
   "outputs": [
    {
     "data": {
      "text/plain": "[2, 4, 6, 8, 10]"
     },
     "execution_count": 1,
     "metadata": {},
     "output_type": "execute_result"
    }
   ],
   "source": [
    "def mul2(x:int) -> int:\n",
    "  return x * 2\n",
    "\n",
    "list(map(mul2, [1,2,3,4,5]))"
   ]
  },
  {
   "cell_type": "code",
   "execution_count": 2,
   "metadata": {
    "pycharm": {
     "name": "#%%\n"
    }
   },
   "outputs": [
    {
     "data": {
      "text/plain": "[2, 4, 6, 8, 10]"
     },
     "execution_count": 2,
     "metadata": {},
     "output_type": "execute_result"
    }
   ],
   "source": [
    "list(map(lambda x: x*2, [1, 2, 3, 4, 5]))"
   ]
  },
  {
   "cell_type": "code",
   "execution_count": 6,
   "metadata": {
    "pycharm": {
     "name": "#%%\n"
    }
   },
   "outputs": [
    {
     "data": {
      "text/plain": [
       "[2, 4, 6, 8, 10]"
      ]
     },
     "execution_count": 6,
     "metadata": {},
     "output_type": "execute_result"
    }
   ],
   "source": [
    "[i * 2 for i in range(1, 6)]"
   ]
  },
  {
   "cell_type": "code",
   "execution_count": 8,
   "metadata": {
    "pycharm": {
     "name": "#%%\n"
    }
   },
   "outputs": [
    {
     "data": {
      "text/plain": [
       "[2, 6, 10, 14, 18]"
      ]
     },
     "execution_count": 8,
     "metadata": {},
     "output_type": "execute_result"
    }
   ],
   "source": [
    "lst = []\n",
    "for i in range(1, 10+1):\n",
    "  if i % 2 == 1:\n",
    "    lst.append(i * 2)\n",
    "lst"
   ]
  },
  {
   "cell_type": "code",
   "execution_count": 4,
   "metadata": {
    "pycharm": {
     "name": "#%%\n"
    }
   },
   "outputs": [
    {
     "data": {
      "text/plain": [
       "[2, 6, 10, 14, 18]"
      ]
     },
     "execution_count": 4,
     "metadata": {},
     "output_type": "execute_result"
    }
   ],
   "source": [
    "[n * 2 for n in range(1, 10+1) if n % 2 == 1]"
   ]
  },
  {
   "cell_type": "code",
   "execution_count": 26,
   "metadata": {
    "pycharm": {
     "name": "#%%\n"
    }
   },
   "outputs": [
    {
     "name": "stdout",
     "output_type": "stream",
     "text": [
      "[[0, 7, 0, 0, 0, 0, 0, 0, 0, 0],\n",
      " [0, 7, 0, 0, 0, 0, 0, 0, 0, 0],\n",
      " [0, 7, 0, 0, 0, 0, 0, 0, 0, 0],\n",
      " [0, 7, 0, 0, 0, 0, 0, 0, 0, 0],\n",
      " [0, 7, 0, 0, 0, 0, 0, 0, 0, 0]]\n",
      "[0, 7, 0, 0, 0, 0, 0, 0, 0, 0]\n"
     ]
    }
   ],
   "source": [
    "import pprint\n",
    "\n",
    "array = [[0] * 10] * 5\n",
    "array[0][1] = 7\n",
    "pprint.pprint(array)"
   ]
  },
  {
   "cell_type": "code",
   "execution_count": 27,
   "metadata": {
    "pycharm": {
     "name": "#%%\n"
    }
   },
   "outputs": [
    {
     "data": {
      "text/plain": [
       "[0, 7, 0, 0, 0]"
      ]
     },
     "execution_count": 27,
     "metadata": {},
     "output_type": "execute_result"
    }
   ],
   "source": [
    "arr = [0] * 5\n",
    "arr[1] = 7\n",
    "arr"
   ]
  },
  {
   "cell_type": "code",
   "execution_count": 3,
   "outputs": [
    {
     "data": {
      "text/plain": "[[0, 0, 0, 0, 0, 0, 0, 0, 0, 0],\n [0, 0, 0, 0, 0, 0, 0, 0, 0, 0],\n [0, 0, 0, 0, 0, 0, 0, 0, 0, 0],\n [0, 0, 0, 0, 0, 0, 0, 0, 0, 0],\n [0, 0, 0, 0, 0, 0, 0, 0, 0, 0]]"
     },
     "execution_count": 3,
     "metadata": {},
     "output_type": "execute_result"
    }
   ],
   "source": [
    "[[0 for _ in range(10)] for _ in range(5)]"
   ],
   "metadata": {
    "collapsed": false,
    "pycharm": {
     "name": "#%%\n"
    }
   }
  },
  {
   "cell_type": "code",
   "execution_count": 4,
   "outputs": [
    {
     "data": {
      "text/plain": "[[0, 0, 0, 0, 0, 0, 0, 0, 0, 0],\n [0, 0, 0, 0, 0, 0, 0, 0, 0, 0],\n [0, 0, 0, 0, 0, 0, 0, 0, 0, 0],\n [0, 0, 0, 0, 0, 0, 0, 0, 0, 0],\n [0, 0, 0, 0, 0, 0, 0, 0, 0, 0]]"
     },
     "execution_count": 4,
     "metadata": {},
     "output_type": "execute_result"
    }
   ],
   "source": [
    "[[0] * 10 for _ in range(5)]"
   ],
   "metadata": {
    "collapsed": false,
    "pycharm": {
     "name": "#%%\n"
    }
   }
  },
  {
   "cell_type": "code",
   "execution_count": 20,
   "metadata": {
    "pycharm": {
     "name": "#%%\n"
    }
   },
   "outputs": [
    {
     "name": "stdout",
     "output_type": "stream",
     "text": [
      "lst0\n",
      "[[0, 0, 0, 0, 0, 0, 0, 0, 0, 0],\n",
      " [0, 5, 0, 0, 0, 0, 0, 0, 0, 0],\n",
      " [0, 0, 0, 0, 0, 0, 0, 0, 0, 0],\n",
      " [0, 0, 0, 0, 0, 0, 0, 0, 0, 0],\n",
      " [0, 0, 0, 0, 0, 0, 0, 0, 0, 0]]\n",
      "lst1\n",
      "[[0, 0, 0, 0, 0, 0, 0, 0, 0, 0],\n",
      " [0, 0, 0, 0, 0, 0, 0, 0, 0, 0],\n",
      " [0, 0, 0, 0, 0, 0, 0, 0, 0, 0],\n",
      " [0, 0, 0, 0, 0, 0, 0, 0, 0, 0],\n",
      " [0, 0, 0, 0, 0, 0, 0, 0, 0, 0]]\n",
      "lst2\n",
      "[[0, 0, 0, 0, 0, 0, 0, 0, 0, 0],\n",
      " [0, 0, 0, 0, 0, 0, 0, 0, 0, 0],\n",
      " [0, 0, 0, 0, 0, 0, 0, 0, 0, 0],\n",
      " [0, 0, 0, 0, 0, 0, 0, 0, 0, 0],\n",
      " [0, 0, 0, 0, 0, 0, 0, 0, 0, 0]]\n"
     ]
    }
   ],
   "source": [
    "import pprint\n",
    "# 2차원 리스트 초기화\n",
    "lst0 = []\n",
    "for i in range(5):\n",
    "  t = []\n",
    "  for j in range(10):\n",
    "    t.append(0)\n",
    "  lst0.append(t)\n",
    "print('lst0')\n",
    "pprint.pprint(lst0)    \n",
    "\n",
    "lst1 = [[0 for _ in range(10)] for _ in range(5)]\n",
    "print('lst1')\n",
    "pprint.pprint(lst1)\n",
    "\n",
    "lst2 = [[0] * 10 for _ in range(5)]\n",
    "print('lst2')\n",
    "pprint.pprint(lst2)"
   ]
  },
  {
   "cell_type": "code",
   "execution_count": 8,
   "metadata": {
    "pycharm": {
     "name": "#%%\n"
    }
   },
   "outputs": [],
   "source": [
    "original = {'a':1, 'b':2, 'c':3}"
   ]
  },
  {
   "cell_type": "code",
   "execution_count": 9,
   "metadata": {
    "pycharm": {
     "name": "#%%\n"
    }
   },
   "outputs": [
    {
     "data": {
      "text/plain": [
       "{'a': 1, 'b': 2, 'c': 3}"
      ]
     },
     "execution_count": 9,
     "metadata": {},
     "output_type": "execute_result"
    }
   ],
   "source": [
    "a = {}\n",
    "for key, value in original.items():\n",
    "  a[key] = value\n",
    "a"
   ]
  },
  {
   "cell_type": "code",
   "execution_count": 12,
   "metadata": {
    "pycharm": {
     "name": "#%%\n"
    }
   },
   "outputs": [
    {
     "data": {
      "text/plain": [
       "{'a': 1, 'b': 2, 'c': 3}"
      ]
     },
     "execution_count": 12,
     "metadata": {},
     "output_type": "execute_result"
    }
   ],
   "source": [
    "b = {key: value for key, value in original.items()}\n",
    "b"
   ]
  },
  {
   "cell_type": "markdown",
   "metadata": {
    "pycharm": {
     "name": "#%% md\n"
    }
   },
   "source": [
    "- 리스트 컴프리핸션은 특유의 문법과 의미를 축약하여 나타내는 특징 탓에 지나치게 남발하게 되면 코드의 가독성을 떨어뜨리는 요인이된다.\n",
    "- 리스트 컴프리핸션은 대체로 표현식이 2개를 넘지 않아야 한다."
   ]
  },
  {
   "cell_type": "code",
   "execution_count": 48,
   "metadata": {
    "pycharm": {
     "name": "#%%\n"
    }
   },
   "outputs": [],
   "source": [
    "str1 = 'Hello World'"
   ]
  },
  {
   "cell_type": "code",
   "execution_count": 52,
   "metadata": {
    "pycharm": {
     "name": "#%%\n"
    }
   },
   "outputs": [
    {
     "data": {
      "text/plain": [
       "['he', 'el', 'll', 'lo', 'wo', 'or', 'rl', 'ld']"
      ]
     },
     "execution_count": 52,
     "metadata": {},
     "output_type": "execute_result"
    }
   ],
   "source": [
    "import re\n",
    "\n",
    "str1s = [str1[i:i + 2].lower() for i in range(len(str1) - 1) if re.findall('[a-z]{2}', str1[i:i+2].lower())]\n",
    "str1s"
   ]
  },
  {
   "cell_type": "code",
   "execution_count": 53,
   "metadata": {
    "pycharm": {
     "name": "#%%\n"
    }
   },
   "outputs": [
    {
     "data": {
      "text/plain": [
       "['he', 'el', 'll', 'lo', 'wo', 'or', 'rl', 'ld']"
      ]
     },
     "execution_count": 53,
     "metadata": {},
     "output_type": "execute_result"
    }
   ],
   "source": [
    "# 코드 가독성을 위해 다음과 같이 줄바꿈을 하여 코드를 정리해보자.\n",
    "str2s = [\n",
    "  str1[i:i + 2].lower() for i in range(len(str1) - 1)\n",
    "  if re.findall('[a-z]{2}', str1[i:i+2].lower())\n",
    "]\n",
    "str2s"
   ]
  },
  {
   "cell_type": "code",
   "execution_count": 54,
   "metadata": {
    "pycharm": {
     "name": "#%%\n"
    }
   },
   "outputs": [
    {
     "data": {
      "text/plain": [
       "['he', 'el', 'll', 'lo', 'wo', 'or', 'rl', 'ld']"
      ]
     },
     "execution_count": 54,
     "metadata": {},
     "output_type": "execute_result"
    }
   ],
   "source": [
    "# 차라리 모두 풀어서 쓰는 것도 가독성을 위해서라면 나쁘지 않다.\n",
    "str3s = []\n",
    "for i in range(len(str1) - 1):\n",
    "  if re.findall('[a-z]{2}', str1[i:i + 2].lower()):\n",
    "    str3s.append(str1[i:i + 2].lower())\n",
    "    \n",
    "str3s"
   ]
  },
  {
   "cell_type": "markdown",
   "metadata": {
    "pycharm": {
     "name": "#%% md\n"
    }
   },
   "source": [
    "### 입력받기"
   ]
  },
  {
   "cell_type": "code",
   "execution_count": 29,
   "metadata": {
    "pycharm": {
     "name": "#%%\n"
    }
   },
   "outputs": [
    {
     "name": "stdout",
     "output_type": "stream",
     "text": [
      "[1, 3, 5, 7, 9]\n"
     ]
    }
   ],
   "source": [
    "n = int(input())                        # 데이터 개수 입력받기\n",
    "data = list(map(int, input().split()))  # 입력된 문자열을 공백으로 구분하여 리스트로 저장\n",
    "\n",
    "data.sort()\n",
    "print(data)"
   ]
  },
  {
   "cell_type": "code",
   "execution_count": 32,
   "metadata": {
    "pycharm": {
     "name": "#%%\n"
    }
   },
   "outputs": [
    {
     "name": "stdout",
     "output_type": "stream",
     "text": [
      "a=1, b=2, c=3\n"
     ]
    }
   ],
   "source": [
    "a, b, c = map(int, input().split())\n",
    "print(f\"a={a}, b={b}, c={c}\")"
   ]
  },
  {
   "cell_type": "code",
   "execution_count": 33,
   "metadata": {
    "pycharm": {
     "name": "#%%\n"
    }
   },
   "outputs": [],
   "source": [
    "import sys\n",
    "data = sys.stdin.readline().rstrip()\n",
    "print(data)"
   ]
  },
  {
   "cell_type": "markdown",
   "metadata": {
    "pycharm": {
     "name": "#%% md\n"
    }
   },
   "source": [
    "### 이터레이터(Iterator)"
   ]
  },
  {
   "cell_type": "code",
   "execution_count": null,
   "metadata": {
    "pycharm": {
     "name": "#%%\n"
    }
   },
   "outputs": [],
   "source": [
    "a = [1, 2, 3]\n",
    "print(type(a))\n",
    "next(a)"
   ]
  },
  {
   "cell_type": "code",
   "execution_count": null,
   "metadata": {
    "pycharm": {
     "name": "#%%\n"
    }
   },
   "outputs": [],
   "source": [
    "a = [1, 2, 3]\n",
    "ia = iter(a)\n",
    "print(type(ia))\n",
    "\n",
    "for _ in range(4):\n",
    "  print(next(ia))"
   ]
  },
  {
   "cell_type": "code",
   "execution_count": null,
   "metadata": {
    "pycharm": {
     "name": "#%%\n"
    }
   },
   "outputs": [],
   "source": [
    "a = [1, 2, 3]\n",
    "ia = iter(a)\n",
    "type(ia)\n",
    "\n",
    "for i in ia:\n",
    "  print(i)"
   ]
  },
  {
   "cell_type": "code",
   "execution_count": null,
   "metadata": {
    "pycharm": {
     "name": "#%%\n"
    }
   },
   "outputs": [],
   "source": [
    "a = [1, 2, 3]\n",
    "for i in a:\n",
    "  print(i, end=' ')\n",
    "for i in a:\n",
    "  print(i, end=' ')\n",
    "for i in a:\n",
    "  print(i, end=' ')"
   ]
  },
  {
   "cell_type": "code",
   "execution_count": null,
   "metadata": {
    "pycharm": {
     "name": "#%%\n"
    }
   },
   "outputs": [],
   "source": [
    "for i in ia:\n",
    "  print(i)"
   ]
  },
  {
   "cell_type": "code",
   "execution_count": 43,
   "metadata": {
    "pycharm": {
     "name": "#%%\n"
    }
   },
   "outputs": [
    {
     "name": "stdout",
     "output_type": "stream",
     "text": [
      "1\n",
      "2\n",
      "3\n"
     ]
    }
   ],
   "source": [
    "# 이터레이터 만들기\n",
    "class MyIterator:\n",
    "  def __init__(self, data):\n",
    "    self.data = data\n",
    "    self.position = 0\n",
    "    \n",
    "  def __iter__(self): # 이터레이터 객체를 반환하는 메서드\n",
    "    return self\n",
    "  \n",
    "  def __next__(self): # next() 호출시 실행되는 메서드\n",
    "    if self.position >= len(self.data):\n",
    "      raise StopIteration\n",
    "    result = self.data[self.position]\n",
    "    self.position += 1\n",
    "    return result\n",
    "  \n",
    "my_iterator = MyIterator([1,2,3])\n",
    "for i in my_iterator:\n",
    "  print(i)\n"
   ]
  },
  {
   "cell_type": "code",
   "execution_count": 45,
   "metadata": {
    "pycharm": {
     "name": "#%%\n"
    }
   },
   "outputs": [
    {
     "name": "stdout",
     "output_type": "stream",
     "text": [
      "3\n",
      "2\n",
      "1\n"
     ]
    }
   ],
   "source": [
    "# 이터레이터 만들기\n",
    "class MyIterator:\n",
    "  def __init__(self, data):\n",
    "    self.data = data\n",
    "    self.position = len(self.data) - 1\n",
    "    \n",
    "  def __iter__(self): # 이터레이터 객체를 반환하는 메서드\n",
    "    return self\n",
    "  \n",
    "  def __next__(self): # next() 호출시 실행되는 메서드\n",
    "    if self.position < 0:\n",
    "      raise StopIteration\n",
    "    result = self.data[self.position]\n",
    "    self.position -= 1\n",
    "    return result\n",
    "  \n",
    "my_iterator = MyIterator([1,2,3])\n",
    "for i in my_iterator:\n",
    "  print(i)\n"
   ]
  },
  {
   "cell_type": "code",
   "execution_count": 44,
   "metadata": {
    "pycharm": {
     "name": "#%%\n"
    }
   },
   "outputs": [],
   "source": [
    "for i in my_iterator:\n",
    "  print(i)"
   ]
  },
  {
   "cell_type": "markdown",
   "metadata": {
    "pycharm": {
     "name": "#%% md\n"
    }
   },
   "source": [
    "### 제너레이터(Generator)"
   ]
  },
  {
   "cell_type": "markdown",
   "metadata": {
    "pycharm": {
     "name": "#%% md\n"
    }
   },
   "source": [
    "- 루프의 반복(Iteration) 동작을 제어할 수 있는 루틴 형태\n",
    "- 임의의 조건으로 숫자 1억개를 만들어내는 프로그램을 작성한다고 할때, 제너레이터가 없다면 메모리에 숫자 1억개를 저장하고 있어야 한다. 그러나 제너레이터를 이용하면 제너레이터만 생성해두고 필요할 때 언제든 숫자를 만들어낼 수 있다. "
   ]
  },
  {
   "cell_type": "code",
   "execution_count": 47,
   "metadata": {
    "pycharm": {
     "name": "#%%\n"
    }
   },
   "outputs": [
    {
     "name": "stdout",
     "output_type": "stream",
     "text": [
      "<class 'generator'>\n",
      "A\n",
      "B\n",
      "C\n"
     ]
    },
    {
     "ename": "StopIteration",
     "evalue": "",
     "output_type": "error",
     "traceback": [
      "\u001B[1;31m---------------------------------------------------------------------------\u001B[0m",
      "\u001B[1;31mStopIteration\u001B[0m                             Traceback (most recent call last)",
      "\u001B[1;32m~\\AppData\\Local\\Temp/ipykernel_9328/4232397451.py\u001B[0m in \u001B[0;36m<module>\u001B[1;34m\u001B[0m\n\u001B[0;32m      8\u001B[0m \u001B[1;33m\u001B[0m\u001B[0m\n\u001B[0;32m      9\u001B[0m \u001B[1;32mfor\u001B[0m \u001B[0m_\u001B[0m \u001B[1;32min\u001B[0m \u001B[0mrange\u001B[0m\u001B[1;33m(\u001B[0m\u001B[1;36m4\u001B[0m\u001B[1;33m)\u001B[0m\u001B[1;33m:\u001B[0m\u001B[1;33m\u001B[0m\u001B[1;33m\u001B[0m\u001B[0m\n\u001B[1;32m---> 10\u001B[1;33m   \u001B[0mprint\u001B[0m\u001B[1;33m(\u001B[0m\u001B[0mnext\u001B[0m\u001B[1;33m(\u001B[0m\u001B[0mg\u001B[0m\u001B[1;33m)\u001B[0m\u001B[1;33m)\u001B[0m\u001B[1;33m\u001B[0m\u001B[1;33m\u001B[0m\u001B[0m\n\u001B[0m",
      "\u001B[1;31mStopIteration\u001B[0m: "
     ]
    }
   ],
   "source": [
    "def my_generator():\n",
    "  yield 'A'\n",
    "  yield 'B'\n",
    "  yield 'C'\n",
    "  \n",
    "g = my_generator()\n",
    "print(type(g))\n",
    "\n",
    "for _ in range(4):\n",
    "  print(next(g))"
   ]
  },
  {
   "cell_type": "code",
   "execution_count": 48,
   "metadata": {
    "pycharm": {
     "name": "#%%\n"
    }
   },
   "outputs": [
    {
     "name": "stdout",
     "output_type": "stream",
     "text": [
      "1 4 9 16 25 36 49 64 81 100 "
     ]
    }
   ],
   "source": [
    "# 제너레이터 표현식\n",
    "def my_generator():\n",
    "  for i in range(1, 100):\n",
    "    yield i * i\n",
    "\n",
    "g = my_generator()\n",
    "for _ in range(10):\n",
    "  print(next(g), end=' ')"
   ]
  },
  {
   "cell_type": "code",
   "execution_count": 51,
   "metadata": {
    "pycharm": {
     "name": "#%%\n"
    }
   },
   "outputs": [
    {
     "name": "stdout",
     "output_type": "stream",
     "text": [
      "1 4 9 16 25 36 49 64 81 100 "
     ]
    }
   ],
   "source": [
    "# 제너레이터 표현식\n",
    "g2 = (i*i for i in range(1, 1000))\n",
    "\n",
    "for _ in range(10):\n",
    "  print(next(g2), end=' ')"
   ]
  },
  {
   "cell_type": "code",
   "execution_count": 13,
   "metadata": {
    "pycharm": {
     "name": "#%%\n"
    }
   },
   "outputs": [
    {
     "data": {
      "text/plain": [
       "<generator object get_natural_number at 0x00000234FC9BA740>"
      ]
     },
     "execution_count": 13,
     "metadata": {},
     "output_type": "execute_result"
    }
   ],
   "source": [
    "def get_natural_number():\n",
    "  n = 0\n",
    "  while True:\n",
    "    n += 1\n",
    "    yield n   # yield 구문을 사용하면 제너레이터를 리턴할 수 있다. (여기까지 실행중이던 값 내보냄.)\n",
    "    \n",
    "get_natural_number()  # 함수의 리턴값은 generator 객체가 된다."
   ]
  },
  {
   "cell_type": "code",
   "execution_count": 14,
   "metadata": {
    "pycharm": {
     "name": "#%%\n"
    }
   },
   "outputs": [
    {
     "name": "stdout",
     "output_type": "stream",
     "text": [
      "1 2 3 4 5 6 7 8 9 10 11 12 13 14 15 16 17 18 19 20 21 22 23 24 25 26 27 28 29 30 31 32 33 34 35 36 37 38 39 40 41 42 43 44 45 46 47 48 49 50 51 52 53 54 55 56 57 58 59 60 61 62 63 64 65 66 67 68 69 70 71 72 73 74 75 76 77 78 79 80 81 82 83 84 85 86 87 88 89 90 91 92 93 94 95 96 97 98 99 100 "
     ]
    }
   ],
   "source": [
    "# generator 객체를 이용하여 다음 값을 생성하려면 next()로 추출하면 된다.\n",
    "g = get_natural_number()\n",
    "for _ in range(0, 100):\n",
    "  print(next(g), end=' ')"
   ]
  },
  {
   "cell_type": "code",
   "execution_count": 27,
   "metadata": {
    "pycharm": {
     "name": "#%%\n"
    }
   },
   "outputs": [],
   "source": [
    "# generator는 여러 타입의 값을 하나의 함수에서 생성하는 것도 가능\n",
    "def generator():\n",
    "  yield 1\n",
    "  yield 'string'\n",
    "  yield True"
   ]
  },
  {
   "cell_type": "code",
   "execution_count": 28,
   "metadata": {
    "pycharm": {
     "name": "#%%\n"
    }
   },
   "outputs": [
    {
     "data": {
      "text/plain": [
       "<generator object generator at 0x00000234FC9D6120>"
      ]
     },
     "execution_count": 28,
     "metadata": {},
     "output_type": "execute_result"
    }
   ],
   "source": [
    "g = generator()\n",
    "g"
   ]
  },
  {
   "cell_type": "code",
   "execution_count": 29,
   "metadata": {
    "pycharm": {
     "name": "#%%\n"
    }
   },
   "outputs": [
    {
     "name": "stdout",
     "output_type": "stream",
     "text": [
      "1 string True "
     ]
    }
   ],
   "source": [
    "for _ in range(3):\n",
    "  print(next(g), end=' ')"
   ]
  },
  {
   "cell_type": "code",
   "execution_count": 30,
   "metadata": {
    "pycharm": {
     "name": "#%%\n"
    }
   },
   "outputs": [
    {
     "name": "stdout",
     "output_type": "stream",
     "text": [
      "1000000 1000000 True\n",
      "<class 'list'> <class 'range'>\n",
      "8448728 48\n"
     ]
    }
   ],
   "source": [
    "# 제너레이터 방식을 활용하는 대표적인 함수로 range()가 있다.\n",
    "a = [n for n in range(1000000)]\n",
    "b = range(1000000)\n",
    "\n",
    "print(len(a), len(b), len(a) == len(b))\n",
    "print(type(a), type(b))\n",
    "print(sys.getsizeof(a), sys.getsizeof(b))   # 메모리 점유율"
   ]
  },
  {
   "cell_type": "code",
   "execution_count": 53,
   "metadata": {
    "pycharm": {
     "name": "#%%\n"
    }
   },
   "outputs": [
    {
     "name": "stdout",
     "output_type": "stream",
     "text": [
      "<class 'list'> <class 'generator'>\n",
      "8448728 104\n"
     ]
    }
   ],
   "source": [
    "import sys\n",
    "\n",
    "a = [n for n in range(1000000)]\n",
    "b = (i for i in range(1000000))\n",
    "print(type(a), type(b))\n",
    "\n",
    "print(sys.getsizeof(a), sys.getsizeof(b))   # 메모리 점유율"
   ]
  },
  {
   "cell_type": "markdown",
   "metadata": {
    "pycharm": {
     "name": "#%% md\n"
    }
   },
   "source": [
    "### 클로저와 데코레이터"
   ]
  },
  {
   "cell_type": "markdown",
   "metadata": {
    "pycharm": {
     "name": "#%% md\n"
    }
   },
   "source": [
    "- 클로저는 함수 안에 내부 함수(inner function)을 구현하고, 그 내부 함수를 반환하는 함수\n",
    "- 이때 외부 함수는 자신이 가진 변수값 등을 내부 함수에 전달하여 실행되도록 한다."
   ]
  },
  {
   "cell_type": "code",
   "execution_count": null,
   "metadata": {
    "pycharm": {
     "name": "#%%\n"
    }
   },
   "outputs": [],
   "source": [
    "def mul3(n):\n",
    "  return n * 3\n",
    "\n",
    "def mul5(n):\n",
    "  return n * 5"
   ]
  },
  {
   "cell_type": "code",
   "execution_count": 6,
   "metadata": {
    "pycharm": {
     "name": "#%%\n"
    }
   },
   "outputs": [
    {
     "name": "stdout",
     "output_type": "stream",
     "text": [
      "30\n",
      "50\n"
     ]
    }
   ],
   "source": [
    "class Mul:\n",
    "  def __init__(self, m):\n",
    "    self.m = m\n",
    "  \n",
    "  def multiply(self, n):\n",
    "    return self.m * n\n",
    "  \n",
    "mul3 = Mul(3)\n",
    "mul5 = Mul(5)\n",
    "\n",
    "print(mul3.multiply(10))\n",
    "print(mul5.multiply(10))"
   ]
  },
  {
   "cell_type": "code",
   "execution_count": 8,
   "metadata": {
    "pycharm": {
     "name": "#%%\n"
    }
   },
   "outputs": [
    {
     "name": "stdout",
     "output_type": "stream",
     "text": [
      "30\n",
      "50\n"
     ]
    }
   ],
   "source": [
    "class Mul:\n",
    "  def __init__(self, m):\n",
    "    self.m = m\n",
    "  \n",
    "  # 클로스로 만든 객체에 인수를 전달하여 바로 호출할 수 있도록 하는 메서드\n",
    "  def __call__(self, n):  \n",
    "    return self.m * n\n",
    "  \n",
    "mul3 = Mul(3)\n",
    "mul5 = Mul(5)\n",
    "\n",
    "print(mul3(10))\n",
    "print(mul5(10))"
   ]
  },
  {
   "cell_type": "code",
   "execution_count": 15,
   "metadata": {
    "pycharm": {
     "name": "#%%\n"
    }
   },
   "outputs": [
    {
     "name": "stdout",
     "output_type": "stream",
     "text": [
      "30\n",
      "50\n"
     ]
    }
   ],
   "source": [
    "def mul(m):\n",
    "  def inner_func(n):\n",
    "    return m * n\n",
    "  return inner_func\n",
    "\n",
    "mul3 = mul(3)\n",
    "mul5 = mul(5)\n",
    "\n",
    "print(mul3(10))\n",
    "print(mul5(10))"
   ]
  },
  {
   "cell_type": "markdown",
   "metadata": {
    "pycharm": {
     "name": "#%% md\n"
    }
   },
   "source": [
    "클로저를 이용하여 기존 함수에 기능 추가하기"
   ]
  },
  {
   "cell_type": "code",
   "execution_count": 13,
   "metadata": {
    "pycharm": {
     "name": "#%%\n"
    }
   },
   "outputs": [
    {
     "name": "stdout",
     "output_type": "stream",
     "text": [
      "함수가 실행됩니다.\n",
      "함수 수행시간: 0.0초\n"
     ]
    }
   ],
   "source": [
    "import time\n",
    "\n",
    "def my_func():\n",
    "  start = time.time()\n",
    "  print(\"함수가 실행됩니다.\")\n",
    "  end = time.time()\n",
    "  print(f\"함수 수행시간: {end-start}초\")\n",
    "\n",
    "my_func()"
   ]
  },
  {
   "cell_type": "code",
   "execution_count": 21,
   "metadata": {
    "pycharm": {
     "name": "#%%\n"
    }
   },
   "outputs": [
    {
     "name": "stdout",
     "output_type": "stream",
     "text": [
      "함수 수행시간: 0.004987001419067383초\n"
     ]
    },
    {
     "data": {
      "text/plain": [
       "5000050000"
      ]
     },
     "execution_count": 21,
     "metadata": {},
     "output_type": "execute_result"
    }
   ],
   "source": [
    "import time\n",
    "def elapsed(func):\n",
    "  def inner_func():\n",
    "    start = time.time()\n",
    "    result = func()\n",
    "    end = time.time()\n",
    "    print(f\"함수 수행시간: {end-start}초\")\n",
    "    return result\n",
    "  return inner_func\n",
    "\n",
    "def my_func():\n",
    "  sum = 0\n",
    "  for i in range(100000 + 1):\n",
    "    sum += i\n",
    "  return sum\n",
    "  \n",
    "decorated_my_func = elapsed(my_func)\n",
    "decorated_my_func()"
   ]
  },
  {
   "cell_type": "code",
   "execution_count": null,
   "metadata": {
    "pycharm": {
     "name": "#%%\n",
     "is_executing": true
    }
   },
   "outputs": [],
   "source": [
    "import random\n",
    "import time\n",
    "\n",
    "def selection_sort():\n",
    "  array = []\n",
    "  for _ in range(10000):\n",
    "      array.append(random.randint(1, 100)) # 1부터 100 사이의 랜덤한 정수\n",
    "      \n",
    "  # 선택 정렬 프로그램 소스코드\n",
    "  for i in range(len(array)):\n",
    "      min_index = i # 가장 작은 원소의 인덱스\n",
    "      for j in range(i + 1, len(array)):\n",
    "          if array[min_index] > array[j]:\n",
    "              min_index = j\n",
    "      array[i], array[min_index] = array[min_index], array[i] # 스와프\n",
    "\n",
    "  return array\n",
    "\n",
    "decorated_selection_sort = elapsed(selection_sort)\n",
    "decorated_selection_sort()"
   ]
  },
  {
   "cell_type": "code",
   "execution_count": null,
   "metadata": {
    "pycharm": {
     "name": "#%%\n",
     "is_executing": true
    }
   },
   "outputs": [],
   "source": [
    "import random\n",
    "import time\n",
    "\n",
    "def basic_sort():\n",
    "  array = []\n",
    "  for _ in range(10000):\n",
    "      array.append(random.randint(1, 100)) # 1부터 100 사이의 랜덤한 정수\n",
    "      \n",
    "  # 기본 정렬 라이브러리 사용\n",
    "  array.sort()\n",
    "\n",
    "  return array\n",
    "\n",
    "decorated_basic_sort = elapsed(basic_sort)\n",
    "decorated_basic_sort()"
   ]
  },
  {
   "cell_type": "code",
   "execution_count": null,
   "metadata": {
    "pycharm": {
     "name": "#%%\n",
     "is_executing": true
    }
   },
   "outputs": [],
   "source": [
    "import random\n",
    "import time\n",
    "\n",
    "@elapsed\n",
    "def basic_sort():\n",
    "  array = []\n",
    "  for _ in range(10000):\n",
    "      array.append(random.randint(1, 100)) # 1부터 100 사이의 랜덤한 정수\n",
    "      \n",
    "  # 기본 정렬 라이브러리 사용\n",
    "  array.sort()\n",
    "\n",
    "  return array\n",
    "\n",
    "basic_sort()"
   ]
  },
  {
   "cell_type": "code",
   "execution_count": 27,
   "metadata": {
    "pycharm": {
     "name": "#%%\n"
    }
   },
   "outputs": [
    {
     "ename": "TypeError",
     "evalue": "elapsed.<locals>.inner_func() takes 0 positional arguments but 1 was given",
     "output_type": "error",
     "traceback": [
      "\u001B[1;31m---------------------------------------------------------------------------\u001B[0m",
      "\u001B[1;31mTypeError\u001B[0m                                 Traceback (most recent call last)",
      "\u001B[1;32m~\\AppData\\Local\\Temp/ipykernel_9328/3147508281.py\u001B[0m in \u001B[0;36m<module>\u001B[1;34m\u001B[0m\n\u001B[0;32m     17\u001B[0m   \u001B[1;32mreturn\u001B[0m \u001B[0msum\u001B[0m\u001B[1;33m\u001B[0m\u001B[1;33m\u001B[0m\u001B[0m\n\u001B[0;32m     18\u001B[0m \u001B[1;33m\u001B[0m\u001B[0m\n\u001B[1;32m---> 19\u001B[1;33m \u001B[0mmy_func\u001B[0m\u001B[1;33m(\u001B[0m\u001B[1;36m10000\u001B[0m\u001B[1;33m)\u001B[0m\u001B[1;33m\u001B[0m\u001B[1;33m\u001B[0m\u001B[0m\n\u001B[0m",
      "\u001B[1;31mTypeError\u001B[0m: elapsed.<locals>.inner_func() takes 0 positional arguments but 1 was given"
     ]
    }
   ],
   "source": [
    "import time\n",
    "\n",
    "def elapsed(func):\n",
    "  def inner_func():\n",
    "    start = time.time()\n",
    "    result = func()\n",
    "    end = time.time()\n",
    "    print(f\"함수 수행시간: {end-start}초\")\n",
    "    return result\n",
    "  return inner_func\n",
    "\n",
    "@elapsed\n",
    "def my_func(n: int):\n",
    "  sum = 0\n",
    "  for i in range(n + 1):\n",
    "    sum += i\n",
    "  return sum\n",
    "  \n",
    "my_func(10000)"
   ]
  },
  {
   "cell_type": "code",
   "execution_count": 31,
   "metadata": {
    "pycharm": {
     "name": "#%%\n"
    }
   },
   "outputs": [
    {
     "name": "stdout",
     "output_type": "stream",
     "text": [
      "함수 수행시간: 0.04783964157104492초\n"
     ]
    },
    {
     "data": {
      "text/plain": [
       "500000500000"
      ]
     },
     "execution_count": 31,
     "metadata": {},
     "output_type": "execute_result"
    }
   ],
   "source": [
    "import time\n",
    "\n",
    "def elapsed(func):\n",
    "  def inner_func(*args, **kwargs):\n",
    "    start = time.time()\n",
    "    result = func(*args, **kwargs)\n",
    "    end = time.time()\n",
    "    print(f\"함수 수행시간: {end-start}초\")\n",
    "    return result\n",
    "  return inner_func\n",
    "\n",
    "@elapsed\n",
    "def my_func(n: int):\n",
    "  sum = 0\n",
    "  for i in range(n + 1):\n",
    "    sum += i\n",
    "  return sum\n",
    "  \n",
    "my_func(1000000)"
   ]
  },
  {
   "cell_type": "markdown",
   "metadata": {
    "pycharm": {
     "name": "#%% md\n"
    }
   },
   "source": [
    "### enumerate"
   ]
  },
  {
   "cell_type": "markdown",
   "metadata": {
    "pycharm": {
     "name": "#%% md\n"
    }
   },
   "source": [
    "- 여러가지 자료형(list, set, tuple 등)을 인덱스를 포함한 enumerate 객체로 리턴한다."
   ]
  },
  {
   "cell_type": "code",
   "execution_count": 31,
   "metadata": {
    "pycharm": {
     "name": "#%%\n"
    }
   },
   "outputs": [
    {
     "data": {
      "text/plain": [
       "<enumerate at 0x234fb418e80>"
      ]
     },
     "execution_count": 31,
     "metadata": {},
     "output_type": "execute_result"
    }
   ],
   "source": [
    "a = [1,2,3,4,5,6]\n",
    "enumerate(a)"
   ]
  },
  {
   "cell_type": "code",
   "execution_count": 32,
   "metadata": {
    "pycharm": {
     "name": "#%%\n"
    }
   },
   "outputs": [
    {
     "data": {
      "text/plain": [
       "[(0, 1), (1, 2), (2, 3), (3, 4), (4, 5), (5, 6)]"
      ]
     },
     "execution_count": 32,
     "metadata": {},
     "output_type": "execute_result"
    }
   ],
   "source": [
    "list(enumerate(a))  # 인덱스 번호를 자동으로 부여해주기 때문에 매우 편리하다."
   ]
  },
  {
   "cell_type": "code",
   "execution_count": 34,
   "metadata": {
    "pycharm": {
     "name": "#%%\n"
    }
   },
   "outputs": [
    {
     "name": "stdout",
     "output_type": "stream",
     "text": [
      "0 1\n",
      "1 2\n",
      "2 3\n",
      "3 4\n",
      "4 5\n",
      "5 6\n"
     ]
    }
   ],
   "source": [
    "for i, v in enumerate(a):\n",
    "  print(i, v)"
   ]
  },
  {
   "cell_type": "markdown",
   "metadata": {
    "pycharm": {
     "name": "#%% md\n"
    }
   },
   "source": [
    "### 나눗셈 연산자 //"
   ]
  },
  {
   "cell_type": "code",
   "execution_count": 38,
   "metadata": {
    "pycharm": {
     "name": "#%%\n"
    }
   },
   "outputs": [
    {
     "name": "stdout",
     "output_type": "stream",
     "text": [
      "1.6666666666666667\n",
      "<class 'float'>\n"
     ]
    }
   ],
   "source": [
    "print(5/3)\n",
    "print(type(5/3))"
   ]
  },
  {
   "cell_type": "code",
   "execution_count": 39,
   "metadata": {
    "pycharm": {
     "name": "#%%\n"
    }
   },
   "outputs": [
    {
     "name": "stdout",
     "output_type": "stream",
     "text": [
      "1\n",
      "<class 'int'>\n"
     ]
    }
   ],
   "source": [
    "print(5//3)\n",
    "print(type(5//3))"
   ]
  },
  {
   "cell_type": "code",
   "execution_count": 40,
   "metadata": {
    "pycharm": {
     "name": "#%%\n"
    }
   },
   "outputs": [
    {
     "data": {
      "text/plain": [
       "(1, 2)"
      ]
     },
     "execution_count": 40,
     "metadata": {},
     "output_type": "execute_result"
    }
   ],
   "source": [
    "# 몫과 나머지를 동시에 구하려면 divmod() 함수를 사용하면 된다.\n",
    "divmod(5, 3)"
   ]
  },
  {
   "cell_type": "markdown",
   "metadata": {
    "pycharm": {
     "name": "#%% md\n"
    }
   },
   "source": [
    "### print"
   ]
  },
  {
   "cell_type": "code",
   "execution_count": 1,
   "metadata": {
    "pycharm": {
     "name": "#%%\n"
    }
   },
   "outputs": [
    {
     "name": "stdout",
     "output_type": "stream",
     "text": [
      "A, B, C\n"
     ]
    }
   ],
   "source": [
    "print('A', 'B', 'C', sep=', ')"
   ]
  },
  {
   "cell_type": "code",
   "execution_count": 2,
   "metadata": {
    "pycharm": {
     "name": "#%%\n"
    }
   },
   "outputs": [
    {
     "name": "stdout",
     "output_type": "stream",
     "text": [
      "A, B, C\n"
     ]
    }
   ],
   "source": [
    "# 리스트를 출력할 때는 join()으로 묶어서 처리한다.\n",
    "a = ['A', 'B', 'C']\n",
    "print(', '.join(a))"
   ]
  },
  {
   "cell_type": "markdown",
   "metadata": {
    "pycharm": {
     "name": "#%% md\n"
    }
   },
   "source": [
    "### pass"
   ]
  },
  {
   "cell_type": "code",
   "execution_count": 45,
   "metadata": {
    "pycharm": {
     "name": "#%%\n"
    }
   },
   "outputs": [],
   "source": [
    "class MyClass(object):\n",
    "  def method_a(self):\n",
    "    pass  # 아무것도 없으면 error, pass는 Null Operation으로 아무것도 하지 않는 기능\n",
    "  \n",
    "  def method_b(self):\n",
    "    print('Method B')\n",
    "    \n",
    "c = MyClass()"
   ]
  },
  {
   "cell_type": "markdown",
   "metadata": {
    "pycharm": {
     "name": "#%% md\n"
    }
   },
   "source": [
    "### locals()"
   ]
  },
  {
   "cell_type": "markdown",
   "metadata": {
    "pycharm": {
     "name": "#%% md\n"
    }
   },
   "source": [
    "- 로컬 심볼 테이블 딕셔너리를 가져오는 메소드\n",
    "- 로컬에 선언된 모든 변수를 조회할 수 있는 기능으로 디버깅에 도움이 된다.\n",
    "- 로컬 스코프에 제한해 정보를 조회하기 때문에 클래스의 특정 메소드 내부에서나 함수 내부에 잘못된 부분이 있는지 확인할 수 있다."
   ]
  },
  {
   "cell_type": "code",
   "execution_count": 46,
   "metadata": {
    "pycharm": {
     "name": "#%%\n"
    }
   },
   "outputs": [
    {
     "name": "stdout",
     "output_type": "stream",
     "text": [
      "{'In': ['',\n",
      "        'list(map(lambda x: x+10, [1,2,3]))',\n",
      "        'a = []\\n'\n",
      "        'for n in range(1, 10+1):\\n'\n",
      "        '  if n % 2 == 1:\\n'\n",
      "        '    a.append(n*2)\\n'\n",
      "        'a',\n",
      "        '[n * 2 for n in range(1, 10+1) if n % 2 == 0]',\n",
      "        '[n * 2 for n in range(1, 10+1) if n % 2 == 1]',\n",
      "        'a = {}\\nfor key, value in original.items():\\n  a[key] = value\\na',\n",
      "        'original = {a:1, b:2, c:3}',\n",
      "        \"original = {'a'':1, 'b':2, 'c':3}\",\n",
      "        \"original = {'a':1, 'b':2, 'c':3}\",\n",
      "        'a = {}\\nfor key, value in original.items():\\n  a[key] = value\\na',\n",
      "        'a = {key: value for key, value in original.items()}',\n",
      "        'a = {key: value for key, value in original.items()}\\na',\n",
      "        'b = {key: value for key, value in original.items()}\\nb',\n",
      "        'def get_natural_number():\\n'\n",
      "        '  n = 0\\n'\n",
      "        '  while True:\\n'\n",
      "        '    n += 1\\n'\n",
      "        '    yield n\\n'\n",
      "        'get_natural_number()',\n",
      "        '# generator 객체를 이용하여 다음 값을 생성하려면 next()로 추출하면 된다.\\n'\n",
      "        'g = get_natural_number()\\n'\n",
      "        'for _ in range(0, 100):\\n'\n",
      "        \"  print(next(g), end=' ')\",\n",
      "        '# generator는 여러 타입의 값을 하나의 함수에서 생성하는 것도 가능\\n'\n",
      "        'def generator():\\n'\n",
      "        '  i = 0\\n'\n",
      "        '    yield i += 1\\n'\n",
      "        \"    yield 'string'+i\\n\"\n",
      "        '    yield Ture',\n",
      "        '# generator는 여러 타입의 값을 하나의 함수에서 생성하는 것도 가능\\n'\n",
      "        'def generator():\\n'\n",
      "        '  i = 0\\n'\n",
      "        '  yield i += 1\\n'\n",
      "        \"  yield 'string'+i\\n\"\n",
      "        '  yield Ture',\n",
      "        '# generator는 여러 타입의 값을 하나의 함수에서 생성하는 것도 가능\\n'\n",
      "        'def generator():\\n'\n",
      "        '  yield 1\\n'\n",
      "        \"  yield 'string'\\n\"\n",
      "        '  yield Ture',\n",
      "        'g = generator()\\ng',\n",
      "        \"for _ in range(10):\\n  print(next(g), end=' ')\",\n",
      "        '# generator는 여러 타입의 값을 하나의 함수에서 생성하는 것도 가능\\n'\n",
      "        'def generator():\\n'\n",
      "        '  yield 1\\n'\n",
      "        \"  yield 'string'\\n\"\n",
      "        '  yield True',\n",
      "        'g = generator()\\ng',\n",
      "        \"for _ in range(10):\\n  print(next(g), end=' ')\",\n",
      "        'next(g)',\n",
      "        '# generator는 여러 타입의 값을 하나의 함수에서 생성하는 것도 가능\\n'\n",
      "        'def generator():\\n'\n",
      "        '  yield 1\\n'\n",
      "        \"  yield 'string'\\n\"\n",
      "        '  yield True',\n",
      "        'g = generator()\\ng',\n",
      "        \"for _ in range(10):\\n  print(next(g), end=' ')\",\n",
      "        '# generator는 여러 타입의 값을 하나의 함수에서 생성하는 것도 가능\\n'\n",
      "        'def generator():\\n'\n",
      "        '  yield 1\\n'\n",
      "        \"  yield 'string'\\n\"\n",
      "        '  yield True',\n",
      "        'g = generator()\\ng',\n",
      "        \"for _ in range(3):\\n  print(next(g), end=' ')\",\n",
      "        '# 제너레이터 방식을 활용하는 대표적인 함수로 range()가 있다.\\n'\n",
      "        'a = [n for n in range(1000000)]\\n'\n",
      "        'b = range(1000000)\\n'\n",
      "        '\\n'\n",
      "        'print(len(a), len(b), len(a) == len(b))\\n'\n",
      "        'print(type(a), type(b))\\n'\n",
      "        'print(sys.getsizeof(a), sys.getsizeof(b))',\n",
      "        'a = [1,2,3,4,5,6]\\nenumerate(a)',\n",
      "        'list(enumerate(a))',\n",
      "        'for i, v enumerate(a):\\n  print(i, v)',\n",
      "        'for i, v in enumerate(a):\\n  print(i, v)',\n",
      "        '5/3',\n",
      "        'type(5/3)',\n",
      "        'print(type(5/3))',\n",
      "        'print(5/3)\\nprint(type(5/3))',\n",
      "        'print(5//3)\\nprint(type(5//3))',\n",
      "        '# 몫과 나머지를 동시에 구하려면 divmod() 함수를 사용하면 된다.\\ndivmod(5, 3)',\n",
      "        \"print('A1', 'B2', sep=',')\",\n",
      "        \"print('A1', 'B2', sep=', ')\",\n",
      "        \"print('A1', 'B2', 'C3', sep=', ')\",\n",
      "        '# 리스트를 출력할 때는 join()으로 묶어서 처리한다.\\n'\n",
      "        \"a = ['A', 'B', 'C']\\n\"\n",
      "        \"print(', '.join(a))\",\n",
      "        'class MyClass(object):\\n'\n",
      "        '  def method_a(self):\\n'\n",
      "        '    pass  # 아무것도 없으면 error\\n'\n",
      "        '  \\n'\n",
      "        '  def method_b(self):\\n'\n",
      "        \"    print('Method B')\\n\"\n",
      "        '    \\n'\n",
      "        'c = MyClass()',\n",
      "        'import pprint\\n\\npprint.pprint(locals())'],\n",
      " 'MyClass': <class '__main__.MyClass'>,\n",
      " 'Out': {1: [11, 12, 13],\n",
      "         2: [2, 6, 10, 14, 18],\n",
      "         3: [4, 8, 12, 16, 20],\n",
      "         4: [2, 6, 10, 14, 18],\n",
      "         9: {'a': 1, 'b': 2, 'c': 3},\n",
      "         11: {'a': 1, 'b': 2, 'c': 3},\n",
      "         12: {'a': 1, 'b': 2, 'c': 3},\n",
      "         13: <generator object get_natural_number at 0x00000234FC9BA740>,\n",
      "         18: <generator object generator at 0x00000234FC9E26D0>,\n",
      "         21: <generator object generator at 0x00000234FC9D60B0>,\n",
      "         25: <generator object generator at 0x00000234FC9D6040>,\n",
      "         28: <generator object generator at 0x00000234FC9D6120>,\n",
      "         31: <enumerate object at 0x00000234FB418E80>,\n",
      "         32: [(0, 1), (1, 2), (2, 3), (3, 4), (4, 5), (5, 6)],\n",
      "         35: 1.6666666666666667,\n",
      "         36: <class 'float'>,\n",
      "         40: (1, 2)},\n",
      " '_': 2,\n",
      " '_1': [11, 12, 13],\n",
      " '_11': {'a': 1, 'b': 2, 'c': 3},\n",
      " '_12': {'a': 1, 'b': 2, 'c': 3},\n",
      " '_13': <generator object get_natural_number at 0x00000234FC9BA740>,\n",
      " '_18': <generator object generator at 0x00000234FC9E26D0>,\n",
      " '_2': [2, 6, 10, 14, 18],\n",
      " '_21': <generator object generator at 0x00000234FC9D60B0>,\n",
      " '_25': <generator object generator at 0x00000234FC9D6040>,\n",
      " '_28': <generator object generator at 0x00000234FC9D6120>,\n",
      " '_3': [4, 8, 12, 16, 20],\n",
      " '_31': <enumerate object at 0x00000234FB418E80>,\n",
      " '_32': [(0, 1), (1, 2), (2, 3), (3, 4), (4, 5), (5, 6)],\n",
      " '_35': 1.6666666666666667,\n",
      " '_36': <class 'float'>,\n",
      " '_4': [2, 6, 10, 14, 18],\n",
      " '_40': (1, 2),\n",
      " '_9': {'a': 1, 'b': 2, 'c': 3},\n",
      " '__': {'a': 1, 'b': 2, 'c': 3},\n",
      " '___': {'a': 1, 'b': 2, 'c': 3},\n",
      " '__builtin__': <module 'builtins' (built-in)>,\n",
      " '__builtins__': <module 'builtins' (built-in)>,\n",
      " '__doc__': 'Automatically created module for IPython interactive environment',\n",
      " '__loader__': None,\n",
      " '__name__': '__main__',\n",
      " '__package__': None,\n",
      " '__spec__': None,\n",
      " '__vsc_ipynb_file__': 'd:\\\\Repository\\\\Python\\\\python01.ipynb',\n",
      " '_dh': ['d:\\\\Repository\\\\Python'],\n",
      " '_i': 'class MyClass(object):\\n'\n",
      "       '  def method_a(self):\\n'\n",
      "       '    pass  # 아무것도 없으면 error\\n'\n",
      "       '  \\n'\n",
      "       '  def method_b(self):\\n'\n",
      "       \"    print('Method B')\\n\"\n",
      "       '    \\n'\n",
      "       'c = MyClass()',\n",
      " '_i1': 'list(map(lambda x: x+10, [1,2,3]))',\n",
      " '_i10': 'a = {key: value for key, value in original.items()}',\n",
      " '_i11': 'a = {key: value for key, value in original.items()}\\na',\n",
      " '_i12': 'b = {key: value for key, value in original.items()}\\nb',\n",
      " '_i13': 'def get_natural_number():\\n'\n",
      "         '  n = 0\\n'\n",
      "         '  while True:\\n'\n",
      "         '    n += 1\\n'\n",
      "         '    yield n\\n'\n",
      "         'get_natural_number()',\n",
      " '_i14': '# generator 객체를 이용하여 다음 값을 생성하려면 next()로 추출하면 된다.\\n'\n",
      "         'g = get_natural_number()\\n'\n",
      "         'for _ in range(0, 100):\\n'\n",
      "         \"  print(next(g), end=' ')\",\n",
      " '_i15': '# generator는 여러 타입의 값을 하나의 함수에서 생성하는 것도 가능\\n'\n",
      "         'def generator():\\n'\n",
      "         '  i = 0\\n'\n",
      "         '    yield i += 1\\n'\n",
      "         \"    yield 'string'+i\\n\"\n",
      "         '    yield Ture',\n",
      " '_i16': '# generator는 여러 타입의 값을 하나의 함수에서 생성하는 것도 가능\\n'\n",
      "         'def generator():\\n'\n",
      "         '  i = 0\\n'\n",
      "         '  yield i += 1\\n'\n",
      "         \"  yield 'string'+i\\n\"\n",
      "         '  yield Ture',\n",
      " '_i17': '# generator는 여러 타입의 값을 하나의 함수에서 생성하는 것도 가능\\n'\n",
      "         'def generator():\\n'\n",
      "         '  yield 1\\n'\n",
      "         \"  yield 'string'\\n\"\n",
      "         '  yield Ture',\n",
      " '_i18': 'g = generator()\\ng',\n",
      " '_i19': \"for _ in range(10):\\n  print(next(g), end=' ')\",\n",
      " '_i2': 'a = []\\n'\n",
      "        'for n in range(1, 10+1):\\n'\n",
      "        '  if n % 2 == 1:\\n'\n",
      "        '    a.append(n*2)\\n'\n",
      "        'a',\n",
      " '_i20': '# generator는 여러 타입의 값을 하나의 함수에서 생성하는 것도 가능\\n'\n",
      "         'def generator():\\n'\n",
      "         '  yield 1\\n'\n",
      "         \"  yield 'string'\\n\"\n",
      "         '  yield True',\n",
      " '_i21': 'g = generator()\\ng',\n",
      " '_i22': \"for _ in range(10):\\n  print(next(g), end=' ')\",\n",
      " '_i23': 'next(g)',\n",
      " '_i24': '# generator는 여러 타입의 값을 하나의 함수에서 생성하는 것도 가능\\n'\n",
      "         'def generator():\\n'\n",
      "         '  yield 1\\n'\n",
      "         \"  yield 'string'\\n\"\n",
      "         '  yield True',\n",
      " '_i25': 'g = generator()\\ng',\n",
      " '_i26': \"for _ in range(10):\\n  print(next(g), end=' ')\",\n",
      " '_i27': '# generator는 여러 타입의 값을 하나의 함수에서 생성하는 것도 가능\\n'\n",
      "         'def generator():\\n'\n",
      "         '  yield 1\\n'\n",
      "         \"  yield 'string'\\n\"\n",
      "         '  yield True',\n",
      " '_i28': 'g = generator()\\ng',\n",
      " '_i29': \"for _ in range(3):\\n  print(next(g), end=' ')\",\n",
      " '_i3': '[n * 2 for n in range(1, 10+1) if n % 2 == 0]',\n",
      " '_i30': '# 제너레이터 방식을 활용하는 대표적인 함수로 range()가 있다.\\n'\n",
      "         'a = [n for n in range(1000000)]\\n'\n",
      "         'b = range(1000000)\\n'\n",
      "         '\\n'\n",
      "         'print(len(a), len(b), len(a) == len(b))\\n'\n",
      "         'print(type(a), type(b))\\n'\n",
      "         'print(sys.getsizeof(a), sys.getsizeof(b))',\n",
      " '_i31': 'a = [1,2,3,4,5,6]\\nenumerate(a)',\n",
      " '_i32': 'list(enumerate(a))',\n",
      " '_i33': 'for i, v enumerate(a):\\n  print(i, v)',\n",
      " '_i34': 'for i, v in enumerate(a):\\n  print(i, v)',\n",
      " '_i35': '5/3',\n",
      " '_i36': 'type(5/3)',\n",
      " '_i37': 'print(type(5/3))',\n",
      " '_i38': 'print(5/3)\\nprint(type(5/3))',\n",
      " '_i39': 'print(5//3)\\nprint(type(5//3))',\n",
      " '_i4': '[n * 2 for n in range(1, 10+1) if n % 2 == 1]',\n",
      " '_i40': '# 몫과 나머지를 동시에 구하려면 divmod() 함수를 사용하면 된다.\\ndivmod(5, 3)',\n",
      " '_i41': \"print('A1', 'B2', sep=',')\",\n",
      " '_i42': \"print('A1', 'B2', sep=', ')\",\n",
      " '_i43': \"print('A1', 'B2', 'C3', sep=', ')\",\n",
      " '_i44': '# 리스트를 출력할 때는 join()으로 묶어서 처리한다.\\n'\n",
      "         \"a = ['A', 'B', 'C']\\n\"\n",
      "         \"print(', '.join(a))\",\n",
      " '_i45': 'class MyClass(object):\\n'\n",
      "         '  def method_a(self):\\n'\n",
      "         '    pass  # 아무것도 없으면 error\\n'\n",
      "         '  \\n'\n",
      "         '  def method_b(self):\\n'\n",
      "         \"    print('Method B')\\n\"\n",
      "         '    \\n'\n",
      "         'c = MyClass()',\n",
      " '_i46': 'import pprint\\n\\npprint.pprint(locals())',\n",
      " '_i5': 'a = {}\\nfor key, value in original.items():\\n  a[key] = value\\na',\n",
      " '_i6': 'original = {a:1, b:2, c:3}',\n",
      " '_i7': \"original = {'a'':1, 'b':2, 'c':3}\",\n",
      " '_i8': \"original = {'a':1, 'b':2, 'c':3}\",\n",
      " '_i9': 'a = {}\\nfor key, value in original.items():\\n  a[key] = value\\na',\n",
      " '_ih': ['',\n",
      "         'list(map(lambda x: x+10, [1,2,3]))',\n",
      "         'a = []\\n'\n",
      "         'for n in range(1, 10+1):\\n'\n",
      "         '  if n % 2 == 1:\\n'\n",
      "         '    a.append(n*2)\\n'\n",
      "         'a',\n",
      "         '[n * 2 for n in range(1, 10+1) if n % 2 == 0]',\n",
      "         '[n * 2 for n in range(1, 10+1) if n % 2 == 1]',\n",
      "         'a = {}\\nfor key, value in original.items():\\n  a[key] = value\\na',\n",
      "         'original = {a:1, b:2, c:3}',\n",
      "         \"original = {'a'':1, 'b':2, 'c':3}\",\n",
      "         \"original = {'a':1, 'b':2, 'c':3}\",\n",
      "         'a = {}\\nfor key, value in original.items():\\n  a[key] = value\\na',\n",
      "         'a = {key: value for key, value in original.items()}',\n",
      "         'a = {key: value for key, value in original.items()}\\na',\n",
      "         'b = {key: value for key, value in original.items()}\\nb',\n",
      "         'def get_natural_number():\\n'\n",
      "         '  n = 0\\n'\n",
      "         '  while True:\\n'\n",
      "         '    n += 1\\n'\n",
      "         '    yield n\\n'\n",
      "         'get_natural_number()',\n",
      "         '# generator 객체를 이용하여 다음 값을 생성하려면 next()로 추출하면 된다.\\n'\n",
      "         'g = get_natural_number()\\n'\n",
      "         'for _ in range(0, 100):\\n'\n",
      "         \"  print(next(g), end=' ')\",\n",
      "         '# generator는 여러 타입의 값을 하나의 함수에서 생성하는 것도 가능\\n'\n",
      "         'def generator():\\n'\n",
      "         '  i = 0\\n'\n",
      "         '    yield i += 1\\n'\n",
      "         \"    yield 'string'+i\\n\"\n",
      "         '    yield Ture',\n",
      "         '# generator는 여러 타입의 값을 하나의 함수에서 생성하는 것도 가능\\n'\n",
      "         'def generator():\\n'\n",
      "         '  i = 0\\n'\n",
      "         '  yield i += 1\\n'\n",
      "         \"  yield 'string'+i\\n\"\n",
      "         '  yield Ture',\n",
      "         '# generator는 여러 타입의 값을 하나의 함수에서 생성하는 것도 가능\\n'\n",
      "         'def generator():\\n'\n",
      "         '  yield 1\\n'\n",
      "         \"  yield 'string'\\n\"\n",
      "         '  yield Ture',\n",
      "         'g = generator()\\ng',\n",
      "         \"for _ in range(10):\\n  print(next(g), end=' ')\",\n",
      "         '# generator는 여러 타입의 값을 하나의 함수에서 생성하는 것도 가능\\n'\n",
      "         'def generator():\\n'\n",
      "         '  yield 1\\n'\n",
      "         \"  yield 'string'\\n\"\n",
      "         '  yield True',\n",
      "         'g = generator()\\ng',\n",
      "         \"for _ in range(10):\\n  print(next(g), end=' ')\",\n",
      "         'next(g)',\n",
      "         '# generator는 여러 타입의 값을 하나의 함수에서 생성하는 것도 가능\\n'\n",
      "         'def generator():\\n'\n",
      "         '  yield 1\\n'\n",
      "         \"  yield 'string'\\n\"\n",
      "         '  yield True',\n",
      "         'g = generator()\\ng',\n",
      "         \"for _ in range(10):\\n  print(next(g), end=' ')\",\n",
      "         '# generator는 여러 타입의 값을 하나의 함수에서 생성하는 것도 가능\\n'\n",
      "         'def generator():\\n'\n",
      "         '  yield 1\\n'\n",
      "         \"  yield 'string'\\n\"\n",
      "         '  yield True',\n",
      "         'g = generator()\\ng',\n",
      "         \"for _ in range(3):\\n  print(next(g), end=' ')\",\n",
      "         '# 제너레이터 방식을 활용하는 대표적인 함수로 range()가 있다.\\n'\n",
      "         'a = [n for n in range(1000000)]\\n'\n",
      "         'b = range(1000000)\\n'\n",
      "         '\\n'\n",
      "         'print(len(a), len(b), len(a) == len(b))\\n'\n",
      "         'print(type(a), type(b))\\n'\n",
      "         'print(sys.getsizeof(a), sys.getsizeof(b))',\n",
      "         'a = [1,2,3,4,5,6]\\nenumerate(a)',\n",
      "         'list(enumerate(a))',\n",
      "         'for i, v enumerate(a):\\n  print(i, v)',\n",
      "         'for i, v in enumerate(a):\\n  print(i, v)',\n",
      "         '5/3',\n",
      "         'type(5/3)',\n",
      "         'print(type(5/3))',\n",
      "         'print(5/3)\\nprint(type(5/3))',\n",
      "         'print(5//3)\\nprint(type(5//3))',\n",
      "         '# 몫과 나머지를 동시에 구하려면 divmod() 함수를 사용하면 된다.\\ndivmod(5, 3)',\n",
      "         \"print('A1', 'B2', sep=',')\",\n",
      "         \"print('A1', 'B2', sep=', ')\",\n",
      "         \"print('A1', 'B2', 'C3', sep=', ')\",\n",
      "         '# 리스트를 출력할 때는 join()으로 묶어서 처리한다.\\n'\n",
      "         \"a = ['A', 'B', 'C']\\n\"\n",
      "         \"print(', '.join(a))\",\n",
      "         'class MyClass(object):\\n'\n",
      "         '  def method_a(self):\\n'\n",
      "         '    pass  # 아무것도 없으면 error\\n'\n",
      "         '  \\n'\n",
      "         '  def method_b(self):\\n'\n",
      "         \"    print('Method B')\\n\"\n",
      "         '    \\n'\n",
      "         'c = MyClass()',\n",
      "         'import pprint\\n\\npprint.pprint(locals())'],\n",
      " '_ii': '# 리스트를 출력할 때는 join()으로 묶어서 처리한다.\\n'\n",
      "        \"a = ['A', 'B', 'C']\\n\"\n",
      "        \"print(', '.join(a))\",\n",
      " '_iii': \"print('A1', 'B2', 'C3', sep=', ')\",\n",
      " '_oh': {1: [11, 12, 13],\n",
      "         2: [2, 6, 10, 14, 18],\n",
      "         3: [4, 8, 12, 16, 20],\n",
      "         4: [2, 6, 10, 14, 18],\n",
      "         9: {'a': 1, 'b': 2, 'c': 3},\n",
      "         11: {'a': 1, 'b': 2, 'c': 3},\n",
      "         12: {'a': 1, 'b': 2, 'c': 3},\n",
      "         13: <generator object get_natural_number at 0x00000234FC9BA740>,\n",
      "         18: <generator object generator at 0x00000234FC9E26D0>,\n",
      "         21: <generator object generator at 0x00000234FC9D60B0>,\n",
      "         25: <generator object generator at 0x00000234FC9D6040>,\n",
      "         28: <generator object generator at 0x00000234FC9D6120>,\n",
      "         31: <enumerate object at 0x00000234FB418E80>,\n",
      "         32: [(0, 1), (1, 2), (2, 3), (3, 4), (4, 5), (5, 6)],\n",
      "         35: 1.6666666666666667,\n",
      "         36: <class 'float'>,\n",
      "         40: (1, 2)},\n",
      " 'a': ['A', 'B', 'C'],\n",
      " 'b': range(0, 1000000),\n",
      " 'c': <__main__.MyClass object at 0x00000234FB8AE5E0>,\n",
      " 'exit': <IPython.core.autocall.ZMQExitAutocall object at 0x00000234FB88D580>,\n",
      " 'g': <generator object generator at 0x00000234FC9D6120>,\n",
      " 'generator': <function generator at 0x00000234FC9B5B80>,\n",
      " 'get_ipython': <bound method InteractiveShell.get_ipython of <ipykernel.zmqshell.ZMQInteractiveShell object at 0x00000234FB87B3A0>>,\n",
      " 'get_natural_number': <function get_natural_number at 0x00000234FC9B5310>,\n",
      " 'i': 5,\n",
      " 'key': 'c',\n",
      " 'n': 10,\n",
      " 'original': {'a': 1, 'b': 2, 'c': 3},\n",
      " 'os': <module 'os' from 'c:\\\\Anaconda3\\\\lib\\\\os.py'>,\n",
      " 'pprint': <module 'pprint' from 'c:\\\\Anaconda3\\\\lib\\\\pprint.py'>,\n",
      " 'quit': <IPython.core.autocall.ZMQExitAutocall object at 0x00000234FB88D580>,\n",
      " 'sys': <module 'sys' (built-in)>,\n",
      " 'v': 6,\n",
      " 'value': 3}\n"
     ]
    }
   ],
   "source": [
    "import pprint   \n",
    "\n",
    "pprint.pprint(locals())   # pprint()를 사용하면 보기 좋게 줄바꿈해서 보여준다."
   ]
  },
  {
   "cell_type": "markdown",
   "metadata": {
    "pycharm": {
     "name": "#%% md\n"
    }
   },
   "source": [
    "### 변수명과 주석"
   ]
  },
  {
   "cell_type": "code",
   "execution_count": 56,
   "metadata": {
    "pycharm": {
     "name": "#%%\n"
    }
   },
   "outputs": [],
   "source": [
    "# def numMatchingSubseq(self, S: str, words: List[str]) -> int:\n",
    "#   matched_count = 0\n",
    "  \n",
    "#   for word in words:\n",
    "#     pos = 0\n",
    "#     for i in range(len(word)):\n",
    "#       # Find matching position for each character.\n",
    "#       found_pos = S[pos:].find(word[i])\n",
    "#       if found_pos < 0:\n",
    "#         matched_count -= 1\n",
    "#         break\n",
    "#       else: # If found, take step position forword.\n",
    "#         pos += found_pos + 1\n",
    "#     matched_count += 1\n",
    "# return matched_count\n",
    "\n",
    "# numMatchingSubseq('hello', ['Hello World', 'hello world', 'hello'])"
   ]
  },
  {
   "cell_type": "code",
   "execution_count": null,
   "metadata": {
    "pycharm": {
     "name": "#%%\n"
    }
   },
   "outputs": [],
   "source": []
  },
  {
   "cell_type": "code",
   "execution_count": null,
   "metadata": {
    "pycharm": {
     "name": "#%%\n"
    }
   },
   "outputs": [],
   "source": []
  },
  {
   "cell_type": "code",
   "execution_count": null,
   "metadata": {
    "pycharm": {
     "name": "#%%\n"
    }
   },
   "outputs": [],
   "source": []
  },
  {
   "cell_type": "code",
   "execution_count": null,
   "metadata": {
    "pycharm": {
     "name": "#%%\n"
    }
   },
   "outputs": [],
   "source": []
  },
  {
   "cell_type": "code",
   "execution_count": null,
   "metadata": {
    "pycharm": {
     "name": "#%%\n"
    }
   },
   "outputs": [],
   "source": []
  },
  {
   "cell_type": "code",
   "execution_count": null,
   "metadata": {
    "pycharm": {
     "name": "#%%\n"
    }
   },
   "outputs": [],
   "source": []
  },
  {
   "cell_type": "code",
   "execution_count": null,
   "metadata": {
    "pycharm": {
     "name": "#%%\n"
    }
   },
   "outputs": [],
   "source": []
  },
  {
   "cell_type": "code",
   "execution_count": null,
   "metadata": {
    "pycharm": {
     "name": "#%%\n"
    }
   },
   "outputs": [],
   "source": []
  },
  {
   "cell_type": "code",
   "execution_count": null,
   "metadata": {
    "pycharm": {
     "name": "#%%\n"
    }
   },
   "outputs": [],
   "source": []
  },
  {
   "cell_type": "code",
   "execution_count": null,
   "metadata": {
    "pycharm": {
     "name": "#%%\n"
    }
   },
   "outputs": [],
   "source": []
  },
  {
   "cell_type": "code",
   "execution_count": null,
   "metadata": {
    "pycharm": {
     "name": "#%%\n"
    }
   },
   "outputs": [],
   "source": []
  },
  {
   "cell_type": "code",
   "execution_count": null,
   "metadata": {
    "pycharm": {
     "name": "#%%\n"
    }
   },
   "outputs": [],
   "source": []
  }
 ],
 "metadata": {
  "kernelspec": {
   "display_name": "Python 3.10.2 64-bit",
   "language": "python",
   "name": "python3"
  },
  "language_info": {
   "codemirror_mode": {
    "name": "ipython",
    "version": 3
   },
   "file_extension": ".py",
   "mimetype": "text/x-python",
   "name": "python",
   "nbconvert_exporter": "python",
   "pygments_lexer": "ipython3",
   "version": "3.10.2"
  },
  "orig_nbformat": 4,
  "vscode": {
   "interpreter": {
    "hash": "b95ceaaf507324f6eb38cf945572491426bdd43777f41a708ca87b1b76dbdbc8"
   }
  }
 },
 "nbformat": 4,
 "nbformat_minor": 2
}