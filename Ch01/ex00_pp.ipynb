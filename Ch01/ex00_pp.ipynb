{
 "cells": [
  {
   "cell_type": "markdown",
   "metadata": {
    "pycharm": {
     "name": "#%% md\n"
    }
   },
   "source": [
    "### 동물원으로 동물 이동시키기"
   ]
  },
  {
   "cell_type": "code",
   "execution_count": 1,
   "metadata": {
    "pycharm": {
     "name": "#%%\n"
    }
   },
   "outputs": [],
   "source": [
    "def choose_animals(animals, payload_limit):  # W: 트럭의 무게한도, wt: 각 동물의 무게, val: 각 동물의 가치, n: 동물의 수 \n",
    "  n = len(animals)\n",
    "  # K = [[0 for x in range(payload_limit+1)] for x in range(n+1)]      # DP를 위한 2차원 리스트 초기화 \n",
    "  K = [[0] * (payload_limit + 1) for i in range(n + 1)]\n",
    "  names = [[[] for x in range(payload_limit+1)] for x in range(n+1)]  # 동물 이름 저장 2차원 리스트 초기화\n",
    "  for i in range(n+1):                  # 동물 숫자만큼 반복\n",
    "    for w in range(payload_limit+1):     # 트럭의 무게한도만큼 반복            \n",
    "      if i==0 or w==0:                  # 0번째 행/열은 0으로 세팅                \n",
    "        K[i][w] = 0 \n",
    "      elif animals[i-1][1] <= w:        # 현재 동물을 싣는 것이 가능하면\n",
    "        # K[i-1][w]: 이전 동물의 가치\n",
    "        # animals[i-1][2]+K[i-1][w-animals[i-1][1]]: 현재동물의가치+이전 데이터 중(트럭하중-현재동물무게)  \n",
    "        # K[i][w] = max(animals[i-1][2] + K[i-1][w-animals[i-1][1]], K[i-1][w])    # max 함수 사용하여 큰 것 선택 \n",
    "        if animals[i-1][2] + K[i-1][w-animals[i-1][1]] > K[i-1][w]:\n",
    "          K[i][w] = animals[i-1][2] + K[i-1][w-animals[i-1][1]]\n",
    "          names[i][w].append(animals[i-1][0]) \n",
    "          if K[i-1][w-animals[i-1][1]]:\n",
    "            # names[i][w].append(names[i-1][w-animals[i-1][1]]) \n",
    "            names[i][w] = names[i][w] + names[i-1][w-animals[i-1][1]]\n",
    "        else:\n",
    "          K[i][w] = K[i-1][w]\n",
    "          # names[i][w].append(names[i-1][w])\n",
    "          names[i][w] = names[i][w] + names[i-1][w]\n",
    "      else: \n",
    "        K[i][w] = K[i-1][w] \n",
    "        if K[i-1][w]:\n",
    "          # names[i][w].append(names[i-1][w])\n",
    "          names[i][w] = names[i][w] + names[i-1][w]\n",
    "  \n",
    "  # print('   ', end='')\n",
    "  # for i in range(n+1):\n",
    "  #   print(i, end='  ')\n",
    "  # print()\n",
    "  # for i, v in enumerate(K):\n",
    "  #   print(i, v)\n",
    "  # print()\n",
    "  # for i in names:\n",
    "  #   print(i)  \n",
    "    \n",
    "  return K[n][payload_limit], names[n][payload_limit]"
   ]
  },
  {
   "cell_type": "code",
   "execution_count": 2,
   "metadata": {
    "pycharm": {
     "name": "#%%\n"
    }
   },
   "outputs": [
    {
     "name": "stdout",
     "output_type": "stream",
     "text": [
      "선호도 합:  19\n",
      "선택된 동물들:  ['코끼리', '기린', '하마', '물소', '호랑이']\n"
     ]
    }
   ],
   "source": [
    "animals = [\n",
    "  ['호랑이', 2, 1], ['사자', 2, 1], ['얼룩말', 2, 1], ['물소', 3, 4], \n",
    "  ['하마', 4, 3], ['기린', 5, 5], ['코끼리', 6, 6]\n",
    "  ]\n",
    "\n",
    "truck_payload_limit = 20  # 트럭의 무게 한도\n",
    "preference_sum, selected_animals = choose_animals(animals, truck_payload_limit)\n",
    "print('선호도 합: ', preference_sum)\n",
    "print('선택된 동물들: ', selected_animals)"
   ]
  },
  {
   "cell_type": "markdown",
   "metadata": {
    "pycharm": {
     "name": "#%% md\n"
    }
   },
   "source": [
    "### 알고리즘의 성능"
   ]
  },
  {
   "cell_type": "code",
   "execution_count": 108,
   "metadata": {
    "pycharm": {
     "name": "#%%\n"
    }
   },
   "outputs": [],
   "source": [
    "def fibonacci(n: int) -> int:\n",
    "  if n<0:\n",
    "    return -1\n",
    "  if n<=1:\n",
    "    return n\n",
    "  \n",
    "  f1 = fn = 0\n",
    "  f2 = 1\n",
    "  for i in range(2, n+1):\n",
    "    fn = f1 + f2\n",
    "    f1 = f2\n",
    "    f2 = fn\n",
    "    \n",
    "  return fn"
   ]
  },
  {
   "cell_type": "code",
   "execution_count": 109,
   "metadata": {
    "pycharm": {
     "name": "#%%\n"
    }
   },
   "outputs": [
    {
     "name": "stdout",
     "output_type": "stream",
     "text": [
      "fibonacci -2 =  -1\n",
      "fibonacci -1 =  -1\n",
      "fibonacci  0 =   0\n",
      "fibonacci  1 =   1\n",
      "fibonacci  2 =   1\n",
      "fibonacci  3 =   2\n",
      "fibonacci  4 =   3\n",
      "fibonacci  5 =   5\n",
      "fibonacci  6 =   8\n",
      "fibonacci  7 =  13\n",
      "fibonacci  8 =  21\n",
      "fibonacci  9 =  34\n",
      "fibonacci 10 =  55\n",
      "fibonacci 11 =  89\n",
      "fibonacci 12 = 144\n",
      "fibonacci 13 = 233\n",
      "fibonacci 14 = 377\n",
      "fibonacci 15 = 610\n",
      "fibonacci 16 = 987\n"
     ]
    }
   ],
   "source": [
    "n = int(input())\n",
    "for i in range(-2, n+1):\n",
    "  print(f'fibonacci {i:2d} = {fibonacci(i):3d}')"
   ]
  },
  {
   "cell_type": "code",
   "execution_count": 111,
   "metadata": {
    "pycharm": {
     "name": "#%%\n"
    }
   },
   "outputs": [
    {
     "name": "stdout",
     "output_type": "stream",
     "text": [
      "5050\n"
     ]
    }
   ],
   "source": [
    "sum = 0\n",
    "for i in range(1, 101):\n",
    "  sum += i\n",
    "print(sum)"
   ]
  },
  {
   "cell_type": "code",
   "execution_count": 112,
   "metadata": {
    "pycharm": {
     "name": "#%%\n"
    }
   },
   "outputs": [
    {
     "name": "stdout",
     "output_type": "stream",
     "text": [
      "5050.0\n"
     ]
    }
   ],
   "source": [
    "sum = 0\n",
    "sum = (1+100)*100 / 2\n",
    "print(sum)"
   ]
  },
  {
   "cell_type": "markdown",
   "metadata": {
    "pycharm": {
     "name": "#%% md\n"
    }
   },
   "source": [
    "### 실행시간 측정"
   ]
  },
  {
   "cell_type": "code",
   "execution_count": 117,
   "metadata": {
    "pycharm": {
     "name": "#%%\n"
    }
   },
   "outputs": [
    {
     "name": "stdout",
     "output_type": "stream",
     "text": [
      "1~100000000까지의 합은 5000000050000000\n",
      "코드 수행시간은 8.19812초 입니다.\n"
     ]
    }
   ],
   "source": [
    "import time\n",
    "\n",
    "start = time.time()  # 시작 시간 저장\n",
    " \n",
    "# 작업 코드\n",
    "sum = 0\n",
    "n = 100000000\n",
    "for i in range(1, n+1):\n",
    "  sum += i\n",
    "print(f\"1~{n}까지의 합은 {sum}\")\n",
    "\n",
    "end = time.time() \n",
    "print(f\"코드 수행시간은 {end - start:.5f}초 입니다.\")"
   ]
  },
  {
   "cell_type": "code",
   "execution_count": 19,
   "metadata": {
    "pycharm": {
     "name": "#%%\n"
    }
   },
   "outputs": [
    {
     "name": "stdout",
     "output_type": "stream",
     "text": [
      "7 35 12 99 53 35 14 5 49 69 \n",
      "7 35 12 99 53 35 14 5 49 69 "
     ]
    }
   ],
   "source": [
    "import random\n",
    "random.seed(123)\n",
    "for _ in range(10):\n",
    "  print(random.randint(1, 100), end=' ')\n",
    "print()\n",
    "\n",
    "random.seed(123)\n",
    "for _ in range(10):\n",
    "  print(random.randint(1, 100), end=' ')\n",
    "  "
   ]
  },
  {
   "cell_type": "code",
   "execution_count": 21,
   "metadata": {
    "pycharm": {
     "name": "#%%\n"
    }
   },
   "outputs": [
    {
     "name": "stdout",
     "output_type": "stream",
     "text": [
      "선택 정렬 성능 측정: 4.127485752105713\n",
      "기본 정렬 라이브러리 성능 측정: 0.0009641647338867188\n"
     ]
    }
   ],
   "source": [
    "import random\n",
    "import time\n",
    "\n",
    "# 배열에 10,000개의 정수를 삽입\n",
    "random.seed(123)\n",
    "array = []\n",
    "for _ in range(10000):\n",
    "    array.append(random.randint(1, 100)) # 1부터 100 사이의 랜덤한 정수\n",
    "\n",
    "# 선택 정렬 프로그램 성능 측정\n",
    "start_time = time.time()\n",
    "\n",
    "# 선택 정렬 프로그램 소스코드\n",
    "for i in range(len(array)):\n",
    "    min_index = i # 가장 작은 원소의 인덱스\n",
    "    for j in range(i + 1, len(array)):\n",
    "        if array[min_index] > array[j]:\n",
    "            min_index = j\n",
    "    array[i], array[min_index] = array[min_index], array[i] # 스와프\n",
    "\n",
    "end_time = time.time() # 측정 종료\n",
    "print(\"선택 정렬 성능 측정:\", end_time - start_time) # 수행 시간 출력\n",
    "\n",
    "# 배열을 다시 무작위 데이터로 초기화\n",
    "random.seed(123)\n",
    "array = []\n",
    "for _ in range(10000):\n",
    "    array.append(random.randint(1, 100)) # 1부터 100 사이의 랜덤한 정수\n",
    "\n",
    "# 기본 정렬 라이브러리 성능 측정\n",
    "start_time = time.time()\n",
    "\n",
    "# 기본 정렬 라이브러리 사용\n",
    "array.sort()\n",
    "\n",
    "end_time = time.time() # 측정 종료\n",
    "print(\"기본 정렬 라이브러리 성능 측정:\", end_time - start_time) # 수행 시간 출력"
   ]
  },
  {
   "cell_type": "code",
   "execution_count": null,
   "metadata": {
    "pycharm": {
     "name": "#%%\n"
    }
   },
   "outputs": [],
   "source": []
  }
 ],
 "metadata": {
  "kernelspec": {
   "display_name": "Python 3.10.2 64-bit",
   "language": "python",
   "name": "python3"
  },
  "language_info": {
   "codemirror_mode": {
    "name": "ipython",
    "version": 3
   },
   "file_extension": ".py",
   "mimetype": "text/x-python",
   "name": "python",
   "nbconvert_exporter": "python",
   "pygments_lexer": "ipython3",
   "version": "3.10.2"
  },
  "orig_nbformat": 4,
  "vscode": {
   "interpreter": {
    "hash": "b95ceaaf507324f6eb38cf945572491426bdd43777f41a708ca87b1b76dbdbc8"
   }
  }
 },
 "nbformat": 4,
 "nbformat_minor": 2
}